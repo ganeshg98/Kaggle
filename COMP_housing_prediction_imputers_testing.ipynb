{
 "cells": [
  {
   "cell_type": "markdown",
   "id": "cefc5d47",
   "metadata": {
    "papermill": {
     "duration": 0.012852,
     "end_time": "2023-11-10T18:27:26.505580",
     "exception": false,
     "start_time": "2023-11-10T18:27:26.492728",
     "status": "completed"
    },
    "tags": []
   },
   "source": [
    "**This notebook is an exercise in the [Intermediate Machine Learning](https://www.kaggle.com/learn/intermediate-machine-learning) course.  You can reference the tutorial at [this link](https://www.kaggle.com/alexisbcook/missing-values).**\n",
    "\n",
    "---\n"
   ]
  },
  {
   "cell_type": "markdown",
   "id": "b7a15193",
   "metadata": {
    "papermill": {
     "duration": 0.011567,
     "end_time": "2023-11-10T18:27:26.529445",
     "exception": false,
     "start_time": "2023-11-10T18:27:26.517878",
     "status": "completed"
    },
    "tags": []
   },
   "source": [
    "Now it's your turn to test your new knowledge of **missing values** handling. You'll probably find it makes a big difference.\n",
    "\n",
    "# Setup\n",
    "\n",
    "The questions will give you feedback on your work. Run the following cell to set up the feedback system."
   ]
  },
  {
   "cell_type": "code",
   "execution_count": 1,
   "id": "612902d9",
   "metadata": {
    "execution": {
     "iopub.execute_input": "2023-11-10T18:27:26.555715Z",
     "iopub.status.busy": "2023-11-10T18:27:26.554742Z",
     "iopub.status.idle": "2023-11-10T18:27:27.047610Z",
     "shell.execute_reply": "2023-11-10T18:27:27.045176Z"
    },
    "papermill": {
     "duration": 0.508898,
     "end_time": "2023-11-10T18:27:27.050234",
     "exception": false,
     "start_time": "2023-11-10T18:27:26.541336",
     "status": "completed"
    },
    "tags": []
   },
   "outputs": [
    {
     "name": "stdout",
     "output_type": "stream",
     "text": [
      "Setup Complete\n"
     ]
    }
   ],
   "source": [
    "# Set up code checking\n",
    "import os\n",
    "if not os.path.exists(\"../input/train.csv\"):\n",
    "    os.symlink(\"../input/home-data-for-ml-course/train.csv\", \"../input/train.csv\")  \n",
    "    os.symlink(\"../input/home-data-for-ml-course/test.csv\", \"../input/test.csv\") \n",
    "from learntools.core import binder\n",
    "binder.bind(globals())\n",
    "from learntools.ml_intermediate.ex2 import *\n",
    "print(\"Setup Complete\")"
   ]
  },
  {
   "cell_type": "markdown",
   "id": "de2b6bd1",
   "metadata": {
    "papermill": {
     "duration": 0.011263,
     "end_time": "2023-11-10T18:27:27.073560",
     "exception": false,
     "start_time": "2023-11-10T18:27:27.062297",
     "status": "completed"
    },
    "tags": []
   },
   "source": [
    "In this exercise, you will work with data from the [Housing Prices Competition for Kaggle Learn Users](https://www.kaggle.com/c/home-data-for-ml-course). \n",
    "\n",
    "![Ames Housing dataset image](https://storage.googleapis.com/kaggle-media/learn/images/lTJVG4e.png)\n",
    "\n",
    "Run the next code cell without changes to load the training and validation sets in `X_train`, `X_valid`, `y_train`, and `y_valid`.  The test set is loaded in `X_test`."
   ]
  },
  {
   "cell_type": "code",
   "execution_count": 2,
   "id": "22888a14",
   "metadata": {
    "execution": {
     "iopub.execute_input": "2023-11-10T18:27:27.099853Z",
     "iopub.status.busy": "2023-11-10T18:27:27.099217Z",
     "iopub.status.idle": "2023-11-10T18:27:28.431729Z",
     "shell.execute_reply": "2023-11-10T18:27:28.430800Z"
    },
    "papermill": {
     "duration": 1.348989,
     "end_time": "2023-11-10T18:27:28.434508",
     "exception": false,
     "start_time": "2023-11-10T18:27:27.085519",
     "status": "completed"
    },
    "tags": []
   },
   "outputs": [],
   "source": [
    "import pandas as pd\n",
    "from sklearn.model_selection import train_test_split\n",
    "\n",
    "# Read the data\n",
    "X_full = pd.read_csv('../input/train.csv', index_col='Id')\n",
    "X_test_full = pd.read_csv('../input/test.csv', index_col='Id')\n",
    "\n",
    "# Remove rows with missing target, separate target from predictors\n",
    "X_full.dropna(axis=0, subset=['SalePrice'], inplace=True)\n",
    "y = X_full.SalePrice\n",
    "X_full.drop(['SalePrice'], axis=1, inplace=True)\n",
    "\n",
    "# To keep things simple, we'll use only numerical predictors\n",
    "X = X_full.select_dtypes(exclude=['object'])\n",
    "X_test = X_test_full.select_dtypes(exclude=['object'])\n",
    "\n",
    "# Break off validation set from training data\n",
    "X_train, X_valid, y_train, y_valid = train_test_split(X, y, train_size=0.8, test_size=0.2,\n",
    "                                                      random_state=0)"
   ]
  },
  {
   "cell_type": "markdown",
   "id": "980d5610",
   "metadata": {
    "papermill": {
     "duration": 0.011384,
     "end_time": "2023-11-10T18:27:28.458078",
     "exception": false,
     "start_time": "2023-11-10T18:27:28.446694",
     "status": "completed"
    },
    "tags": []
   },
   "source": [
    "Use the next code cell to print the first five rows of the data."
   ]
  },
  {
   "cell_type": "code",
   "execution_count": 3,
   "id": "185816d7",
   "metadata": {
    "execution": {
     "iopub.execute_input": "2023-11-10T18:27:28.484831Z",
     "iopub.status.busy": "2023-11-10T18:27:28.484072Z",
     "iopub.status.idle": "2023-11-10T18:27:28.510527Z",
     "shell.execute_reply": "2023-11-10T18:27:28.509322Z"
    },
    "papermill": {
     "duration": 0.042195,
     "end_time": "2023-11-10T18:27:28.512896",
     "exception": false,
     "start_time": "2023-11-10T18:27:28.470701",
     "status": "completed"
    },
    "tags": []
   },
   "outputs": [
    {
     "data": {
      "text/html": [
       "<div>\n",
       "<style scoped>\n",
       "    .dataframe tbody tr th:only-of-type {\n",
       "        vertical-align: middle;\n",
       "    }\n",
       "\n",
       "    .dataframe tbody tr th {\n",
       "        vertical-align: top;\n",
       "    }\n",
       "\n",
       "    .dataframe thead th {\n",
       "        text-align: right;\n",
       "    }\n",
       "</style>\n",
       "<table border=\"1\" class=\"dataframe\">\n",
       "  <thead>\n",
       "    <tr style=\"text-align: right;\">\n",
       "      <th></th>\n",
       "      <th>MSSubClass</th>\n",
       "      <th>LotFrontage</th>\n",
       "      <th>LotArea</th>\n",
       "      <th>OverallQual</th>\n",
       "      <th>OverallCond</th>\n",
       "      <th>YearBuilt</th>\n",
       "      <th>YearRemodAdd</th>\n",
       "      <th>MasVnrArea</th>\n",
       "      <th>BsmtFinSF1</th>\n",
       "      <th>BsmtFinSF2</th>\n",
       "      <th>...</th>\n",
       "      <th>GarageArea</th>\n",
       "      <th>WoodDeckSF</th>\n",
       "      <th>OpenPorchSF</th>\n",
       "      <th>EnclosedPorch</th>\n",
       "      <th>3SsnPorch</th>\n",
       "      <th>ScreenPorch</th>\n",
       "      <th>PoolArea</th>\n",
       "      <th>MiscVal</th>\n",
       "      <th>MoSold</th>\n",
       "      <th>YrSold</th>\n",
       "    </tr>\n",
       "    <tr>\n",
       "      <th>Id</th>\n",
       "      <th></th>\n",
       "      <th></th>\n",
       "      <th></th>\n",
       "      <th></th>\n",
       "      <th></th>\n",
       "      <th></th>\n",
       "      <th></th>\n",
       "      <th></th>\n",
       "      <th></th>\n",
       "      <th></th>\n",
       "      <th></th>\n",
       "      <th></th>\n",
       "      <th></th>\n",
       "      <th></th>\n",
       "      <th></th>\n",
       "      <th></th>\n",
       "      <th></th>\n",
       "      <th></th>\n",
       "      <th></th>\n",
       "      <th></th>\n",
       "      <th></th>\n",
       "    </tr>\n",
       "  </thead>\n",
       "  <tbody>\n",
       "    <tr>\n",
       "      <th>619</th>\n",
       "      <td>20</td>\n",
       "      <td>90.0</td>\n",
       "      <td>11694</td>\n",
       "      <td>9</td>\n",
       "      <td>5</td>\n",
       "      <td>2007</td>\n",
       "      <td>2007</td>\n",
       "      <td>452.0</td>\n",
       "      <td>48</td>\n",
       "      <td>0</td>\n",
       "      <td>...</td>\n",
       "      <td>774</td>\n",
       "      <td>0</td>\n",
       "      <td>108</td>\n",
       "      <td>0</td>\n",
       "      <td>0</td>\n",
       "      <td>260</td>\n",
       "      <td>0</td>\n",
       "      <td>0</td>\n",
       "      <td>7</td>\n",
       "      <td>2007</td>\n",
       "    </tr>\n",
       "    <tr>\n",
       "      <th>871</th>\n",
       "      <td>20</td>\n",
       "      <td>60.0</td>\n",
       "      <td>6600</td>\n",
       "      <td>5</td>\n",
       "      <td>5</td>\n",
       "      <td>1962</td>\n",
       "      <td>1962</td>\n",
       "      <td>0.0</td>\n",
       "      <td>0</td>\n",
       "      <td>0</td>\n",
       "      <td>...</td>\n",
       "      <td>308</td>\n",
       "      <td>0</td>\n",
       "      <td>0</td>\n",
       "      <td>0</td>\n",
       "      <td>0</td>\n",
       "      <td>0</td>\n",
       "      <td>0</td>\n",
       "      <td>0</td>\n",
       "      <td>8</td>\n",
       "      <td>2009</td>\n",
       "    </tr>\n",
       "    <tr>\n",
       "      <th>93</th>\n",
       "      <td>30</td>\n",
       "      <td>80.0</td>\n",
       "      <td>13360</td>\n",
       "      <td>5</td>\n",
       "      <td>7</td>\n",
       "      <td>1921</td>\n",
       "      <td>2006</td>\n",
       "      <td>0.0</td>\n",
       "      <td>713</td>\n",
       "      <td>0</td>\n",
       "      <td>...</td>\n",
       "      <td>432</td>\n",
       "      <td>0</td>\n",
       "      <td>0</td>\n",
       "      <td>44</td>\n",
       "      <td>0</td>\n",
       "      <td>0</td>\n",
       "      <td>0</td>\n",
       "      <td>0</td>\n",
       "      <td>8</td>\n",
       "      <td>2009</td>\n",
       "    </tr>\n",
       "    <tr>\n",
       "      <th>818</th>\n",
       "      <td>20</td>\n",
       "      <td>NaN</td>\n",
       "      <td>13265</td>\n",
       "      <td>8</td>\n",
       "      <td>5</td>\n",
       "      <td>2002</td>\n",
       "      <td>2002</td>\n",
       "      <td>148.0</td>\n",
       "      <td>1218</td>\n",
       "      <td>0</td>\n",
       "      <td>...</td>\n",
       "      <td>857</td>\n",
       "      <td>150</td>\n",
       "      <td>59</td>\n",
       "      <td>0</td>\n",
       "      <td>0</td>\n",
       "      <td>0</td>\n",
       "      <td>0</td>\n",
       "      <td>0</td>\n",
       "      <td>7</td>\n",
       "      <td>2008</td>\n",
       "    </tr>\n",
       "    <tr>\n",
       "      <th>303</th>\n",
       "      <td>20</td>\n",
       "      <td>118.0</td>\n",
       "      <td>13704</td>\n",
       "      <td>7</td>\n",
       "      <td>5</td>\n",
       "      <td>2001</td>\n",
       "      <td>2002</td>\n",
       "      <td>150.0</td>\n",
       "      <td>0</td>\n",
       "      <td>0</td>\n",
       "      <td>...</td>\n",
       "      <td>843</td>\n",
       "      <td>468</td>\n",
       "      <td>81</td>\n",
       "      <td>0</td>\n",
       "      <td>0</td>\n",
       "      <td>0</td>\n",
       "      <td>0</td>\n",
       "      <td>0</td>\n",
       "      <td>1</td>\n",
       "      <td>2006</td>\n",
       "    </tr>\n",
       "  </tbody>\n",
       "</table>\n",
       "<p>5 rows × 36 columns</p>\n",
       "</div>"
      ],
      "text/plain": [
       "     MSSubClass  LotFrontage  LotArea  OverallQual  OverallCond  YearBuilt  \\\n",
       "Id                                                                           \n",
       "619          20         90.0    11694            9            5       2007   \n",
       "871          20         60.0     6600            5            5       1962   \n",
       "93           30         80.0    13360            5            7       1921   \n",
       "818          20          NaN    13265            8            5       2002   \n",
       "303          20        118.0    13704            7            5       2001   \n",
       "\n",
       "     YearRemodAdd  MasVnrArea  BsmtFinSF1  BsmtFinSF2  ...  GarageArea  \\\n",
       "Id                                                     ...               \n",
       "619          2007       452.0          48           0  ...         774   \n",
       "871          1962         0.0           0           0  ...         308   \n",
       "93           2006         0.0         713           0  ...         432   \n",
       "818          2002       148.0        1218           0  ...         857   \n",
       "303          2002       150.0           0           0  ...         843   \n",
       "\n",
       "     WoodDeckSF  OpenPorchSF  EnclosedPorch  3SsnPorch  ScreenPorch  PoolArea  \\\n",
       "Id                                                                              \n",
       "619           0          108              0          0          260         0   \n",
       "871           0            0              0          0            0         0   \n",
       "93            0            0             44          0            0         0   \n",
       "818         150           59              0          0            0         0   \n",
       "303         468           81              0          0            0         0   \n",
       "\n",
       "     MiscVal  MoSold  YrSold  \n",
       "Id                            \n",
       "619        0       7    2007  \n",
       "871        0       8    2009  \n",
       "93         0       8    2009  \n",
       "818        0       7    2008  \n",
       "303        0       1    2006  \n",
       "\n",
       "[5 rows x 36 columns]"
      ]
     },
     "execution_count": 3,
     "metadata": {},
     "output_type": "execute_result"
    }
   ],
   "source": [
    "X_train.head()"
   ]
  },
  {
   "cell_type": "markdown",
   "id": "50a2f7c9",
   "metadata": {
    "papermill": {
     "duration": 0.012245,
     "end_time": "2023-11-10T18:27:28.537653",
     "exception": false,
     "start_time": "2023-11-10T18:27:28.525408",
     "status": "completed"
    },
    "tags": []
   },
   "source": [
    "You can already see a few missing values in the first several rows.  In the next step, you'll obtain a more comprehensive understanding of the missing values in the dataset.\n",
    "\n",
    "# Step 1: Preliminary investigation\n",
    "\n",
    "Run the code cell below without changes."
   ]
  },
  {
   "cell_type": "code",
   "execution_count": 4,
   "id": "30ee3239",
   "metadata": {
    "execution": {
     "iopub.execute_input": "2023-11-10T18:27:28.564986Z",
     "iopub.status.busy": "2023-11-10T18:27:28.564539Z",
     "iopub.status.idle": "2023-11-10T18:27:28.572494Z",
     "shell.execute_reply": "2023-11-10T18:27:28.571803Z"
    },
    "papermill": {
     "duration": 0.024789,
     "end_time": "2023-11-10T18:27:28.574978",
     "exception": false,
     "start_time": "2023-11-10T18:27:28.550189",
     "status": "completed"
    },
    "tags": []
   },
   "outputs": [
    {
     "name": "stdout",
     "output_type": "stream",
     "text": [
      "(1168, 36)\n",
      "LotFrontage    212\n",
      "MasVnrArea       6\n",
      "GarageYrBlt     58\n",
      "dtype: int64\n"
     ]
    }
   ],
   "source": [
    "# Shape of training data (num_rows, num_columns)\n",
    "print(X_train.shape)\n",
    "\n",
    "# Number of missing values in each column of training data\n",
    "missing_val_count_by_column = (X_train.isnull().sum())\n",
    "print(missing_val_count_by_column[missing_val_count_by_column > 0])"
   ]
  },
  {
   "cell_type": "markdown",
   "id": "5d684a8e",
   "metadata": {
    "papermill": {
     "duration": 0.011785,
     "end_time": "2023-11-10T18:27:28.598850",
     "exception": false,
     "start_time": "2023-11-10T18:27:28.587065",
     "status": "completed"
    },
    "tags": []
   },
   "source": [
    "### Part A\n",
    "\n",
    "Use the above output to answer the questions below."
   ]
  },
  {
   "cell_type": "code",
   "execution_count": 5,
   "id": "ea748a2a",
   "metadata": {
    "execution": {
     "iopub.execute_input": "2023-11-10T18:27:28.626018Z",
     "iopub.status.busy": "2023-11-10T18:27:28.624900Z",
     "iopub.status.idle": "2023-11-10T18:27:28.635954Z",
     "shell.execute_reply": "2023-11-10T18:27:28.634856Z"
    },
    "papermill": {
     "duration": 0.026652,
     "end_time": "2023-11-10T18:27:28.638191",
     "exception": false,
     "start_time": "2023-11-10T18:27:28.611539",
     "status": "completed"
    },
    "tags": []
   },
   "outputs": [
    {
     "data": {
      "application/javascript": [
       "parent.postMessage({\"jupyterEvent\": \"custom.exercise_interaction\", \"data\": {\"outcomeType\": 1, \"valueTowardsCompletion\": 1.0, \"interactionType\": 1, \"questionType\": 1, \"questionId\": \"1.1_InvestigateEquality\", \"learnToolsVersion\": \"0.3.4\", \"failureMessage\": \"\", \"exceptionClass\": \"\", \"trace\": \"\"}}, \"*\")"
      ],
      "text/plain": [
       "<IPython.core.display.Javascript object>"
      ]
     },
     "metadata": {},
     "output_type": "display_data"
    },
    {
     "data": {
      "text/markdown": [
       "<span style=\"color:#33cc33\">Correct</span>"
      ],
      "text/plain": [
       "Correct"
      ]
     },
     "metadata": {},
     "output_type": "display_data"
    }
   ],
   "source": [
    "# Fill in the line below: How many rows are in the training data?\n",
    "num_rows = 1168\n",
    "\n",
    "# Fill in the line below: How many columns in the training data\n",
    "# have missing values?\n",
    "num_cols_with_missing = 3\n",
    "\n",
    "# Fill in the line below: How many missing entries are contained in \n",
    "# all of the training data?\n",
    "tot_missing = 276\n",
    "\n",
    "# Check your answers\n",
    "step_1.a.check()"
   ]
  },
  {
   "cell_type": "code",
   "execution_count": 6,
   "id": "10e37799",
   "metadata": {
    "execution": {
     "iopub.execute_input": "2023-11-10T18:27:28.666173Z",
     "iopub.status.busy": "2023-11-10T18:27:28.665188Z",
     "iopub.status.idle": "2023-11-10T18:27:28.669559Z",
     "shell.execute_reply": "2023-11-10T18:27:28.668791Z"
    },
    "papermill": {
     "duration": 0.020524,
     "end_time": "2023-11-10T18:27:28.671563",
     "exception": false,
     "start_time": "2023-11-10T18:27:28.651039",
     "status": "completed"
    },
    "tags": []
   },
   "outputs": [],
   "source": [
    "# Lines below will give you a hint or solution code\n",
    "#step_1.a.hint()\n",
    "#step_1.a.solution()"
   ]
  },
  {
   "cell_type": "markdown",
   "id": "0dd88a5c",
   "metadata": {
    "papermill": {
     "duration": 0.012448,
     "end_time": "2023-11-10T18:27:28.696842",
     "exception": false,
     "start_time": "2023-11-10T18:27:28.684394",
     "status": "completed"
    },
    "tags": []
   },
   "source": [
    "### Part B\n",
    "Considering your answers above, what do you think is likely the best approach to dealing with the missing values?"
   ]
  },
  {
   "cell_type": "code",
   "execution_count": 7,
   "id": "7ecb2ef3",
   "metadata": {
    "execution": {
     "iopub.execute_input": "2023-11-10T18:27:28.724908Z",
     "iopub.status.busy": "2023-11-10T18:27:28.723794Z",
     "iopub.status.idle": "2023-11-10T18:27:28.733895Z",
     "shell.execute_reply": "2023-11-10T18:27:28.732688Z"
    },
    "papermill": {
     "duration": 0.026412,
     "end_time": "2023-11-10T18:27:28.736020",
     "exception": false,
     "start_time": "2023-11-10T18:27:28.709608",
     "status": "completed"
    },
    "tags": []
   },
   "outputs": [
    {
     "data": {
      "application/javascript": [
       "parent.postMessage({\"jupyterEvent\": \"custom.exercise_interaction\", \"data\": {\"outcomeType\": 1, \"valueTowardsCompletion\": 1.0, \"interactionType\": 1, \"questionType\": 4, \"questionId\": \"1.2_InvestigateThought\", \"learnToolsVersion\": \"0.3.4\", \"failureMessage\": \"\", \"exceptionClass\": \"\", \"trace\": \"\"}}, \"*\")"
      ],
      "text/plain": [
       "<IPython.core.display.Javascript object>"
      ]
     },
     "metadata": {},
     "output_type": "display_data"
    },
    {
     "data": {
      "text/markdown": [
       "<span style=\"color:#33cc33\">Correct:</span> \n",
       "\n",
       "Since there are relatively few missing entries in the data (the column with the greatest percentage of missing values is missing less than 20% of its entries), we can expect that dropping columns is unlikely to yield good results.  This is because we'd be throwing away a lot of valuable data, and so imputation will likely perform better."
      ],
      "text/plain": [
       "Correct: \n",
       "\n",
       "Since there are relatively few missing entries in the data (the column with the greatest percentage of missing values is missing less than 20% of its entries), we can expect that dropping columns is unlikely to yield good results.  This is because we'd be throwing away a lot of valuable data, and so imputation will likely perform better."
      ]
     },
     "metadata": {},
     "output_type": "display_data"
    }
   ],
   "source": [
    "# Check your answer (Run this code cell to receive credit!)\n",
    "step_1.b.check()"
   ]
  },
  {
   "cell_type": "code",
   "execution_count": 8,
   "id": "d1de2e26",
   "metadata": {
    "execution": {
     "iopub.execute_input": "2023-11-10T18:27:28.764388Z",
     "iopub.status.busy": "2023-11-10T18:27:28.763706Z",
     "iopub.status.idle": "2023-11-10T18:27:28.768242Z",
     "shell.execute_reply": "2023-11-10T18:27:28.767550Z"
    },
    "papermill": {
     "duration": 0.021263,
     "end_time": "2023-11-10T18:27:28.770330",
     "exception": false,
     "start_time": "2023-11-10T18:27:28.749067",
     "status": "completed"
    },
    "tags": []
   },
   "outputs": [],
   "source": [
    "#step_1.b.hint()"
   ]
  },
  {
   "cell_type": "markdown",
   "id": "898a176b",
   "metadata": {
    "papermill": {
     "duration": 0.01229,
     "end_time": "2023-11-10T18:27:28.795364",
     "exception": false,
     "start_time": "2023-11-10T18:27:28.783074",
     "status": "completed"
    },
    "tags": []
   },
   "source": [
    "To compare different approaches to dealing with missing values, you'll use the same `score_dataset()` function from the tutorial.  This function reports the [mean absolute error](https://en.wikipedia.org/wiki/Mean_absolute_error) (MAE) from a random forest model."
   ]
  },
  {
   "cell_type": "code",
   "execution_count": 9,
   "id": "428c6b78",
   "metadata": {
    "execution": {
     "iopub.execute_input": "2023-11-10T18:27:28.823788Z",
     "iopub.status.busy": "2023-11-10T18:27:28.822999Z",
     "iopub.status.idle": "2023-11-10T18:27:29.185825Z",
     "shell.execute_reply": "2023-11-10T18:27:29.184751Z"
    },
    "papermill": {
     "duration": 0.380436,
     "end_time": "2023-11-10T18:27:29.189129",
     "exception": false,
     "start_time": "2023-11-10T18:27:28.808693",
     "status": "completed"
    },
    "tags": []
   },
   "outputs": [],
   "source": [
    "from sklearn.ensemble import RandomForestRegressor\n",
    "from sklearn.metrics import mean_absolute_error\n",
    "\n",
    "# Function for comparing different approaches\n",
    "def score_dataset(X_train, X_valid, y_train, y_valid):\n",
    "    model = RandomForestRegressor(n_estimators=100, random_state=0)\n",
    "    model.fit(X_train, y_train)\n",
    "    preds = model.predict(X_valid)\n",
    "    return mean_absolute_error(y_valid, preds)"
   ]
  },
  {
   "cell_type": "markdown",
   "id": "33a61179",
   "metadata": {
    "papermill": {
     "duration": 0.013007,
     "end_time": "2023-11-10T18:27:29.216144",
     "exception": false,
     "start_time": "2023-11-10T18:27:29.203137",
     "status": "completed"
    },
    "tags": []
   },
   "source": [
    "# Step 2: Drop columns with missing values\n",
    "\n",
    "In this step, you'll preprocess the data in `X_train` and `X_valid` to remove columns with missing values.  Set the preprocessed DataFrames to `reduced_X_train` and `reduced_X_valid`, respectively.  "
   ]
  },
  {
   "cell_type": "code",
   "execution_count": 10,
   "id": "7e339626",
   "metadata": {
    "execution": {
     "iopub.execute_input": "2023-11-10T18:27:29.244909Z",
     "iopub.status.busy": "2023-11-10T18:27:29.244346Z",
     "iopub.status.idle": "2023-11-10T18:27:29.274237Z",
     "shell.execute_reply": "2023-11-10T18:27:29.273497Z"
    },
    "papermill": {
     "duration": 0.046804,
     "end_time": "2023-11-10T18:27:29.276425",
     "exception": false,
     "start_time": "2023-11-10T18:27:29.229621",
     "status": "completed"
    },
    "tags": []
   },
   "outputs": [
    {
     "data": {
      "application/javascript": [
       "parent.postMessage({\"jupyterEvent\": \"custom.exercise_interaction\", \"data\": {\"outcomeType\": 1, \"valueTowardsCompletion\": 1.0, \"interactionType\": 1, \"questionType\": 2, \"questionId\": \"2_DropMissing\", \"learnToolsVersion\": \"0.3.4\", \"failureMessage\": \"\", \"exceptionClass\": \"\", \"trace\": \"\"}}, \"*\")"
      ],
      "text/plain": [
       "<IPython.core.display.Javascript object>"
      ]
     },
     "metadata": {},
     "output_type": "display_data"
    },
    {
     "data": {
      "text/markdown": [
       "<span style=\"color:#33cc33\">Correct</span>"
      ],
      "text/plain": [
       "Correct"
      ]
     },
     "metadata": {},
     "output_type": "display_data"
    }
   ],
   "source": [
    "# Fill in the line below: get names of columns with missing values\n",
    "cols_with_missing_data= [col for col in X_train.columns if X_train[col].isnull().any()]\n",
    "\n",
    "# Fill in the lines below: drop columns in training and validation data\n",
    "reduced_X_train = X_train.drop(cols_with_missing_data,axis=1)\n",
    "reduced_X_valid = X_valid.drop(cols_with_missing_data,axis=1)\n",
    "\n",
    "# Check your answers\n",
    "step_2.check()"
   ]
  },
  {
   "cell_type": "code",
   "execution_count": 11,
   "id": "a889d72b",
   "metadata": {
    "execution": {
     "iopub.execute_input": "2023-11-10T18:27:29.305735Z",
     "iopub.status.busy": "2023-11-10T18:27:29.305267Z",
     "iopub.status.idle": "2023-11-10T18:27:29.313673Z",
     "shell.execute_reply": "2023-11-10T18:27:29.312688Z"
    },
    "papermill": {
     "duration": 0.025829,
     "end_time": "2023-11-10T18:27:29.316153",
     "exception": false,
     "start_time": "2023-11-10T18:27:29.290324",
     "status": "completed"
    },
    "tags": []
   },
   "outputs": [
    {
     "data": {
      "application/javascript": [
       "parent.postMessage({\"jupyterEvent\": \"custom.exercise_interaction\", \"data\": {\"interactionType\": 3, \"questionType\": 2, \"questionId\": \"2_DropMissing\", \"learnToolsVersion\": \"0.3.4\", \"valueTowardsCompletion\": 0.0, \"failureMessage\": \"\", \"exceptionClass\": \"\", \"trace\": \"\", \"outcomeType\": 4}}, \"*\")"
      ],
      "text/plain": [
       "<IPython.core.display.Javascript object>"
      ]
     },
     "metadata": {},
     "output_type": "display_data"
    },
    {
     "data": {
      "text/markdown": [
       "<span style=\"color:#33cc99\">Solution:</span> \n",
       "```python\n",
       "# Get names of columns with missing values\n",
       "cols_with_missing = [col for col in X_train.columns\n",
       "                     if X_train[col].isnull().any()]\n",
       "\n",
       "# Drop columns in training and validation data\n",
       "reduced_X_train = X_train.drop(cols_with_missing, axis=1)\n",
       "reduced_X_valid = X_valid.drop(cols_with_missing, axis=1)\n",
       "\n",
       "```"
      ],
      "text/plain": [
       "Solution: \n",
       "```python\n",
       "# Get names of columns with missing values\n",
       "cols_with_missing = [col for col in X_train.columns\n",
       "                     if X_train[col].isnull().any()]\n",
       "\n",
       "# Drop columns in training and validation data\n",
       "reduced_X_train = X_train.drop(cols_with_missing, axis=1)\n",
       "reduced_X_valid = X_valid.drop(cols_with_missing, axis=1)\n",
       "\n",
       "```"
      ]
     },
     "metadata": {},
     "output_type": "display_data"
    }
   ],
   "source": [
    "# Lines below will give you a hint or solution code\n",
    "#step_2.hint()\n",
    "step_2.solution()"
   ]
  },
  {
   "cell_type": "markdown",
   "id": "a742b33e",
   "metadata": {
    "papermill": {
     "duration": 0.013259,
     "end_time": "2023-11-10T18:27:29.342917",
     "exception": false,
     "start_time": "2023-11-10T18:27:29.329658",
     "status": "completed"
    },
    "tags": []
   },
   "source": [
    "Run the next code cell without changes to obtain the MAE for this approach."
   ]
  },
  {
   "cell_type": "code",
   "execution_count": 12,
   "id": "8709b0e1",
   "metadata": {
    "execution": {
     "iopub.execute_input": "2023-11-10T18:27:29.372736Z",
     "iopub.status.busy": "2023-11-10T18:27:29.371581Z",
     "iopub.status.idle": "2023-11-10T18:27:30.620803Z",
     "shell.execute_reply": "2023-11-10T18:27:30.619296Z"
    },
    "papermill": {
     "duration": 1.266803,
     "end_time": "2023-11-10T18:27:30.623181",
     "exception": false,
     "start_time": "2023-11-10T18:27:29.356378",
     "status": "completed"
    },
    "tags": []
   },
   "outputs": [
    {
     "name": "stdout",
     "output_type": "stream",
     "text": [
      "MAE (Drop columns with missing values):\n",
      "17837.82570776256\n"
     ]
    }
   ],
   "source": [
    "print(\"MAE (Drop columns with missing values):\")\n",
    "print(score_dataset(reduced_X_train, reduced_X_valid, y_train, y_valid))"
   ]
  },
  {
   "cell_type": "markdown",
   "id": "ae552a6f",
   "metadata": {
    "papermill": {
     "duration": 0.013571,
     "end_time": "2023-11-10T18:27:30.651019",
     "exception": false,
     "start_time": "2023-11-10T18:27:30.637448",
     "status": "completed"
    },
    "tags": []
   },
   "source": [
    "# Step 3: Imputation\n",
    "\n",
    "### Part A\n",
    "\n",
    "Use the next code cell to impute missing values with the mean value along each column.  Set the preprocessed DataFrames to `imputed_X_train` and `imputed_X_valid`.  Make sure that the column names match those in `X_train` and `X_valid`."
   ]
  },
  {
   "cell_type": "code",
   "execution_count": 13,
   "id": "a61ce70a",
   "metadata": {
    "execution": {
     "iopub.execute_input": "2023-11-10T18:27:30.767401Z",
     "iopub.status.busy": "2023-11-10T18:27:30.765942Z",
     "iopub.status.idle": "2023-11-10T18:27:30.807092Z",
     "shell.execute_reply": "2023-11-10T18:27:30.805937Z"
    },
    "papermill": {
     "duration": 0.060288,
     "end_time": "2023-11-10T18:27:30.810139",
     "exception": false,
     "start_time": "2023-11-10T18:27:30.749851",
     "status": "completed"
    },
    "tags": []
   },
   "outputs": [
    {
     "data": {
      "application/javascript": [
       "parent.postMessage({\"jupyterEvent\": \"custom.exercise_interaction\", \"data\": {\"outcomeType\": 1, \"valueTowardsCompletion\": 1.0, \"interactionType\": 1, \"questionType\": 2, \"questionId\": \"3.1_ImputeCode\", \"learnToolsVersion\": \"0.3.4\", \"failureMessage\": \"\", \"exceptionClass\": \"\", \"trace\": \"\"}}, \"*\")"
      ],
      "text/plain": [
       "<IPython.core.display.Javascript object>"
      ]
     },
     "metadata": {},
     "output_type": "display_data"
    },
    {
     "data": {
      "text/markdown": [
       "<span style=\"color:#33cc33\">Correct</span>"
      ],
      "text/plain": [
       "Correct"
      ]
     },
     "metadata": {},
     "output_type": "display_data"
    }
   ],
   "source": [
    "from sklearn.impute import SimpleImputer\n",
    "\n",
    "# Fill in the lines below: imputation\n",
    "imputer=SimpleImputer(strategy='median')\n",
    "imputed_X_train = pd.DataFrame(imputer.fit_transform(X_train))\n",
    "imputed_X_valid = pd.DataFrame(imputer.transform(X_valid))\n",
    "\n",
    "###Important point to NOTE\n",
    "\n",
    "#fit() method in imputer from sklearn calculates statistical parameters like mean, std deviation etc\n",
    "#transform() is used to apply the parameters calculated already using fit() method\n",
    "##fit_transform performs the combined task of computing and applying it to the data\n",
    "\n",
    "###TRAINING DATA can be fit transformed directly but using fit on the validation dataset is not a good approach as it will result in overfitting and \n",
    "##the model is biased already based on fit. Hence, we use fit_transform() on training data and transform() directly on validation data\n",
    "\n",
    "\n",
    "# Fill in the lines below: imputation removed column names; put them back\n",
    "imputed_X_train.columns = X_train.columns\n",
    "imputed_X_valid.columns = X_valid.columns\n",
    "\n",
    "# Check your answers\n",
    "step_3.a.check()"
   ]
  },
  {
   "cell_type": "code",
   "execution_count": 14,
   "id": "6a3080f3",
   "metadata": {
    "execution": {
     "iopub.execute_input": "2023-11-10T18:27:30.842639Z",
     "iopub.status.busy": "2023-11-10T18:27:30.841238Z",
     "iopub.status.idle": "2023-11-10T18:27:30.847069Z",
     "shell.execute_reply": "2023-11-10T18:27:30.845997Z"
    },
    "papermill": {
     "duration": 0.02473,
     "end_time": "2023-11-10T18:27:30.849826",
     "exception": false,
     "start_time": "2023-11-10T18:27:30.825096",
     "status": "completed"
    },
    "tags": []
   },
   "outputs": [],
   "source": [
    "# Lines below will give you a hint or solution code\n",
    "#step_3.a.hint()\n",
    "#step_3.a.solution()"
   ]
  },
  {
   "cell_type": "markdown",
   "id": "b258617d",
   "metadata": {
    "papermill": {
     "duration": 0.015253,
     "end_time": "2023-11-10T18:27:30.880055",
     "exception": false,
     "start_time": "2023-11-10T18:27:30.864802",
     "status": "completed"
    },
    "tags": []
   },
   "source": [
    "Run the next code cell without changes to obtain the MAE for this approach."
   ]
  },
  {
   "cell_type": "code",
   "execution_count": 15,
   "id": "db05e952",
   "metadata": {
    "execution": {
     "iopub.execute_input": "2023-11-10T18:27:30.912089Z",
     "iopub.status.busy": "2023-11-10T18:27:30.911227Z",
     "iopub.status.idle": "2023-11-10T18:27:32.358340Z",
     "shell.execute_reply": "2023-11-10T18:27:32.357529Z"
    },
    "papermill": {
     "duration": 1.465574,
     "end_time": "2023-11-10T18:27:32.360755",
     "exception": false,
     "start_time": "2023-11-10T18:27:30.895181",
     "status": "completed"
    },
    "tags": []
   },
   "outputs": [
    {
     "name": "stdout",
     "output_type": "stream",
     "text": [
      "MAE (Imputation):\n",
      "17791.59899543379\n"
     ]
    }
   ],
   "source": [
    "print(\"MAE (Imputation):\")\n",
    "print(score_dataset(imputed_X_train, imputed_X_valid, y_train, y_valid))"
   ]
  },
  {
   "cell_type": "markdown",
   "id": "9ec7c350",
   "metadata": {
    "papermill": {
     "duration": 0.014616,
     "end_time": "2023-11-10T18:27:32.389985",
     "exception": false,
     "start_time": "2023-11-10T18:27:32.375369",
     "status": "completed"
    },
    "tags": []
   },
   "source": [
    "### Part B\n",
    "\n",
    "Compare the MAE from each approach.  Does anything surprise you about the results?  Why do you think one approach performed better than the other?"
   ]
  },
  {
   "cell_type": "code",
   "execution_count": 16,
   "id": "a92285ad",
   "metadata": {
    "execution": {
     "iopub.execute_input": "2023-11-10T18:27:32.420858Z",
     "iopub.status.busy": "2023-11-10T18:27:32.420366Z",
     "iopub.status.idle": "2023-11-10T18:27:32.430123Z",
     "shell.execute_reply": "2023-11-10T18:27:32.429060Z"
    },
    "papermill": {
     "duration": 0.028041,
     "end_time": "2023-11-10T18:27:32.432361",
     "exception": false,
     "start_time": "2023-11-10T18:27:32.404320",
     "status": "completed"
    },
    "tags": []
   },
   "outputs": [
    {
     "data": {
      "application/javascript": [
       "parent.postMessage({\"jupyterEvent\": \"custom.exercise_interaction\", \"data\": {\"outcomeType\": 1, \"valueTowardsCompletion\": 1.0, \"interactionType\": 1, \"questionType\": 4, \"questionId\": \"3.2_ImputeThought\", \"learnToolsVersion\": \"0.3.4\", \"failureMessage\": \"\", \"exceptionClass\": \"\", \"trace\": \"\"}}, \"*\")"
      ],
      "text/plain": [
       "<IPython.core.display.Javascript object>"
      ]
     },
     "metadata": {},
     "output_type": "display_data"
    },
    {
     "data": {
      "text/markdown": [
       "<span style=\"color:#33cc33\">Correct:</span> \n",
       "\n",
       "Given that thre are so few missing values in the dataset, we'd expect imputation to perform better than dropping columns entirely.  However, we see that dropping columns performs slightly better!  While this can probably partially be attributed to noise in the dataset, another potential explanation is that the imputation method is not a great match to this dataset.  That is, maybe instead of filling in the mean value, it makes more sense to set every missing value to a value of 0, to fill in the most frequently encountered value, or to use some other method.  For instance, consider the `GarageYrBlt` column (which indicates the year that the garage was built).  It's likely that in some cases, a missing value could indicate a house that does not have a garage.  Does it make more sense to fill in the median value along each column in this case?  Or could we get better results by filling in the minimum value along each column?  It's not quite clear what's best in this case, but perhaps we can rule out some options immediately - for instance, setting missing values in this column to 0 is likely to yield horrible results!"
      ],
      "text/plain": [
       "Correct: \n",
       "\n",
       "Given that thre are so few missing values in the dataset, we'd expect imputation to perform better than dropping columns entirely.  However, we see that dropping columns performs slightly better!  While this can probably partially be attributed to noise in the dataset, another potential explanation is that the imputation method is not a great match to this dataset.  That is, maybe instead of filling in the mean value, it makes more sense to set every missing value to a value of 0, to fill in the most frequently encountered value, or to use some other method.  For instance, consider the `GarageYrBlt` column (which indicates the year that the garage was built).  It's likely that in some cases, a missing value could indicate a house that does not have a garage.  Does it make more sense to fill in the median value along each column in this case?  Or could we get better results by filling in the minimum value along each column?  It's not quite clear what's best in this case, but perhaps we can rule out some options immediately - for instance, setting missing values in this column to 0 is likely to yield horrible results!"
      ]
     },
     "metadata": {},
     "output_type": "display_data"
    }
   ],
   "source": [
    "# Check your answer (Run this code cell to receive credit!)\n",
    "step_3.b.check()\n",
    "\n",
    "#Beautiful explanation here:\n",
    "\n",
    "#In summary, just imputing the NaN values to some mean or median does not necessarily work. It should be based on the dataset and the data column or feature we're dealing with.\n",
    "#Garage year NaN filled with mean, median or most appearing is better than making it 0, that's messed up.\n",
    "\n",
    "#That's why dropping performed better than imputing here!!"
   ]
  },
  {
   "cell_type": "code",
   "execution_count": 17,
   "id": "59c99033",
   "metadata": {
    "execution": {
     "iopub.execute_input": "2023-11-10T18:27:32.465700Z",
     "iopub.status.busy": "2023-11-10T18:27:32.464478Z",
     "iopub.status.idle": "2023-11-10T18:27:32.469440Z",
     "shell.execute_reply": "2023-11-10T18:27:32.468732Z"
    },
    "papermill": {
     "duration": 0.024323,
     "end_time": "2023-11-10T18:27:32.471719",
     "exception": false,
     "start_time": "2023-11-10T18:27:32.447396",
     "status": "completed"
    },
    "tags": []
   },
   "outputs": [],
   "source": [
    "#step_3.b.hint()"
   ]
  },
  {
   "cell_type": "code",
   "execution_count": 18,
   "id": "32f6cae0",
   "metadata": {
    "execution": {
     "iopub.execute_input": "2023-11-10T18:27:32.504431Z",
     "iopub.status.busy": "2023-11-10T18:27:32.503683Z",
     "iopub.status.idle": "2023-11-10T18:27:34.030312Z",
     "shell.execute_reply": "2023-11-10T18:27:34.029117Z"
    },
    "papermill": {
     "duration": 1.545899,
     "end_time": "2023-11-10T18:27:34.032855",
     "exception": false,
     "start_time": "2023-11-10T18:27:32.486956",
     "status": "completed"
    },
    "tags": []
   },
   "outputs": [
    {
     "name": "stdout",
     "output_type": "stream",
     "text": [
      "MAE (Imputation with KNN):\n",
      "17828.351324200914\n"
     ]
    }
   ],
   "source": [
    "###Writing some custom code to make the data better than just simple imputation or dropping off NaN Columns\n",
    "###So there are 4 imputers\n",
    "\n",
    "#impute.SimpleImputer(*[, missing_values, ...])\n",
    "#impute.IterativeImputer([estimator, ...])\n",
    "#impute.MissingIndicator(*[, missing_values, ...])\n",
    "#impute.KNNImputer\n",
    "\n",
    "###KNN below\n",
    "\n",
    "from sklearn.impute import KNNImputer\n",
    "imputer=KNNImputer(n_neighbors=12,weights='uniform')\n",
    "imputed_X_train = pd.DataFrame(imputer.fit_transform(X_train))\n",
    "imputed_X_valid = pd.DataFrame(imputer.transform(X_valid))\n",
    "imputed_X_train.columns = X_train.columns\n",
    "imputed_X_valid.columns = X_valid.columns\n",
    "\n",
    "print(\"MAE (Imputation with KNN):\") #18048 with 4 neighbors: Worse than dropping off better than simple imputer\n",
    "##17828 best at 12 neighbors better than dropping columns\n",
    "print(score_dataset(imputed_X_train, imputed_X_valid, y_train, y_valid))"
   ]
  },
  {
   "cell_type": "code",
   "execution_count": 19,
   "id": "a042c176",
   "metadata": {
    "execution": {
     "iopub.execute_input": "2023-11-10T18:27:34.066613Z",
     "iopub.status.busy": "2023-11-10T18:27:34.066142Z",
     "iopub.status.idle": "2023-11-10T18:27:36.612390Z",
     "shell.execute_reply": "2023-11-10T18:27:36.610965Z"
    },
    "papermill": {
     "duration": 2.566063,
     "end_time": "2023-11-10T18:27:36.615019",
     "exception": false,
     "start_time": "2023-11-10T18:27:34.048956",
     "status": "completed"
    },
    "tags": []
   },
   "outputs": [
    {
     "name": "stdout",
     "output_type": "stream",
     "text": [
      "[IterativeImputer] Completing matrix with shape (1168, 36)\n",
      "[IterativeImputer] Ending imputation round 1/10, elapsed time 1.05\n",
      "[IterativeImputer] Change: 196.86674882941634, scaled tolerance: 215.245 \n",
      "[IterativeImputer] Early stopping criterion reached.\n",
      "[IterativeImputer] Completing matrix with shape (292, 36)\n",
      "[IterativeImputer] Ending imputation round 1/1, elapsed time 0.00\n",
      "MAE (Imputation with Iterative Imputer):\n",
      "17828.351324200914\n"
     ]
    }
   ],
   "source": [
    "### Iterative imputer\n",
    "from sklearn.experimental import enable_iterative_imputer\n",
    "#Above switch is temporarily needed\n",
    "from sklearn.impute import IterativeImputer\n",
    "iterative_imputer=IterativeImputer(random_state=0,verbose=2)#initial_strategy='mean' performs best it's default, n_nearest_features does not help much,tol change doesn't affect much,\n",
    "iterative_imputed_X_train = pd.DataFrame(iterative_imputer.fit_transform(X_train))\n",
    "iterative_imputed_X_valid = pd.DataFrame(iterative_imputer.transform(X_valid))\n",
    "iterative_imputed_X_train.columns = X_train.columns\n",
    "iterative_imputed_X_valid.columns = X_valid.columns\n",
    "\n",
    "print(\"MAE (Imputation with Iterative Imputer):\")  #Best is 17786\n",
    "print(score_dataset(imputed_X_train, imputed_X_valid, y_train, y_valid))"
   ]
  },
  {
   "cell_type": "markdown",
   "id": "1c955416",
   "metadata": {
    "papermill": {
     "duration": 0.015292,
     "end_time": "2023-11-10T18:27:36.646557",
     "exception": false,
     "start_time": "2023-11-10T18:27:36.631265",
     "status": "completed"
    },
    "tags": []
   },
   "source": [
    "# Step 4: Generate test predictions\n",
    "\n",
    "In this final step, you'll use any approach of your choosing to deal with missing values.  Once you've preprocessed the training and validation features, you'll train and evaluate a random forest model.  Then, you'll preprocess the test data before generating predictions that can be submitted to the competition!\n",
    "\n",
    "### Part A\n",
    "\n",
    "Use the next code cell to preprocess the training and validation data.  Set the preprocessed DataFrames to `final_X_train` and `final_X_valid`.  **You can use any approach of your choosing here!**  in order for this step to be marked as correct, you need only ensure:\n",
    "- the preprocessed DataFrames have the same number of columns,\n",
    "- the preprocessed DataFrames have no missing values, \n",
    "- `final_X_train` and `y_train` have the same number of rows, and\n",
    "- `final_X_valid` and `y_valid` have the same number of rows."
   ]
  },
  {
   "cell_type": "code",
   "execution_count": 20,
   "id": "e8f77701",
   "metadata": {
    "execution": {
     "iopub.execute_input": "2023-11-10T18:27:36.679873Z",
     "iopub.status.busy": "2023-11-10T18:27:36.679361Z",
     "iopub.status.idle": "2023-11-10T18:27:36.703123Z",
     "shell.execute_reply": "2023-11-10T18:27:36.702031Z"
    },
    "papermill": {
     "duration": 0.042907,
     "end_time": "2023-11-10T18:27:36.705230",
     "exception": false,
     "start_time": "2023-11-10T18:27:36.662323",
     "status": "completed"
    },
    "tags": []
   },
   "outputs": [
    {
     "data": {
      "application/javascript": [
       "parent.postMessage({\"jupyterEvent\": \"custom.exercise_interaction\", \"data\": {\"outcomeType\": 1, \"valueTowardsCompletion\": 1.0, \"interactionType\": 1, \"questionType\": 2, \"questionId\": \"4.1_PredsCodeA\", \"learnToolsVersion\": \"0.3.4\", \"failureMessage\": \"\", \"exceptionClass\": \"\", \"trace\": \"\"}}, \"*\")"
      ],
      "text/plain": [
       "<IPython.core.display.Javascript object>"
      ]
     },
     "metadata": {},
     "output_type": "display_data"
    },
    {
     "data": {
      "text/markdown": [
       "<span style=\"color:#33cc33\">Correct</span>"
      ],
      "text/plain": [
       "Correct"
      ]
     },
     "metadata": {},
     "output_type": "display_data"
    }
   ],
   "source": [
    "# Preprocessed training and validation features\n",
    "\n",
    "#Iterative imputer outputs are being used\n",
    "\n",
    "final_X_train = iterative_imputed_X_train\n",
    "final_X_valid = iterative_imputed_X_valid\n",
    "\n",
    "# Check your answers\n",
    "step_4.a.check()"
   ]
  },
  {
   "cell_type": "code",
   "execution_count": 21,
   "id": "aa8f5fd7",
   "metadata": {
    "execution": {
     "iopub.execute_input": "2023-11-10T18:27:36.739844Z",
     "iopub.status.busy": "2023-11-10T18:27:36.738712Z",
     "iopub.status.idle": "2023-11-10T18:27:36.747528Z",
     "shell.execute_reply": "2023-11-10T18:27:36.746760Z"
    },
    "papermill": {
     "duration": 0.028643,
     "end_time": "2023-11-10T18:27:36.749771",
     "exception": false,
     "start_time": "2023-11-10T18:27:36.721128",
     "status": "completed"
    },
    "tags": []
   },
   "outputs": [
    {
     "data": {
      "application/javascript": [
       "parent.postMessage({\"jupyterEvent\": \"custom.exercise_interaction\", \"data\": {\"interactionType\": 3, \"questionType\": 2, \"questionId\": \"4.1_PredsCodeA\", \"learnToolsVersion\": \"0.3.4\", \"valueTowardsCompletion\": 0.0, \"failureMessage\": \"\", \"exceptionClass\": \"\", \"trace\": \"\", \"outcomeType\": 4}}, \"*\")"
      ],
      "text/plain": [
       "<IPython.core.display.Javascript object>"
      ]
     },
     "metadata": {},
     "output_type": "display_data"
    },
    {
     "data": {
      "text/markdown": [
       "<span style=\"color:#33cc99\">Solution:</span> \n",
       "```python\n",
       "# Imputation\n",
       "final_imputer = SimpleImputer(strategy='median')\n",
       "final_X_train = pd.DataFrame(final_imputer.fit_transform(X_train))\n",
       "final_X_valid = pd.DataFrame(final_imputer.transform(X_valid))\n",
       "\n",
       "# Imputation removed column names; put them back\n",
       "final_X_train.columns = X_train.columns\n",
       "final_X_valid.columns = X_valid.columns\n",
       "\n",
       "```"
      ],
      "text/plain": [
       "Solution: \n",
       "```python\n",
       "# Imputation\n",
       "final_imputer = SimpleImputer(strategy='median')\n",
       "final_X_train = pd.DataFrame(final_imputer.fit_transform(X_train))\n",
       "final_X_valid = pd.DataFrame(final_imputer.transform(X_valid))\n",
       "\n",
       "# Imputation removed column names; put them back\n",
       "final_X_train.columns = X_train.columns\n",
       "final_X_valid.columns = X_valid.columns\n",
       "\n",
       "```"
      ]
     },
     "metadata": {},
     "output_type": "display_data"
    }
   ],
   "source": [
    "# Lines below will give you a hint or solution code\n",
    "#step_4.a.hint()\n",
    "step_4.a.solution()"
   ]
  },
  {
   "cell_type": "markdown",
   "id": "086374af",
   "metadata": {
    "papermill": {
     "duration": 0.016213,
     "end_time": "2023-11-10T18:27:36.782420",
     "exception": false,
     "start_time": "2023-11-10T18:27:36.766207",
     "status": "completed"
    },
    "tags": []
   },
   "source": [
    "Run the next code cell to train and evaluate a random forest model.  (*Note that we don't use the `score_dataset()` function above, because we will soon use the trained model to generate test predictions!*)"
   ]
  },
  {
   "cell_type": "code",
   "execution_count": 22,
   "id": "dbdd8271",
   "metadata": {
    "execution": {
     "iopub.execute_input": "2023-11-10T18:27:36.817964Z",
     "iopub.status.busy": "2023-11-10T18:27:36.817136Z",
     "iopub.status.idle": "2023-11-10T18:27:38.224377Z",
     "shell.execute_reply": "2023-11-10T18:27:38.223128Z"
    },
    "papermill": {
     "duration": 1.428605,
     "end_time": "2023-11-10T18:27:38.227360",
     "exception": false,
     "start_time": "2023-11-10T18:27:36.798755",
     "status": "completed"
    },
    "tags": []
   },
   "outputs": [
    {
     "name": "stdout",
     "output_type": "stream",
     "text": [
      "MAE (Your approach):\n",
      "17786.50546803653\n"
     ]
    }
   ],
   "source": [
    "# Define and fit model\n",
    "model = RandomForestRegressor(n_estimators=100, random_state=0)\n",
    "model.fit(final_X_train, y_train)\n",
    "\n",
    "# Get validation predictions and MAE\n",
    "preds_valid = model.predict(final_X_valid)\n",
    "print(\"MAE (Your approach):\")\n",
    "print(mean_absolute_error(y_valid, preds_valid))"
   ]
  },
  {
   "cell_type": "markdown",
   "id": "a1649920",
   "metadata": {
    "papermill": {
     "duration": 0.017401,
     "end_time": "2023-11-10T18:27:38.262454",
     "exception": false,
     "start_time": "2023-11-10T18:27:38.245053",
     "status": "completed"
    },
    "tags": []
   },
   "source": [
    "### Part B\n",
    "\n",
    "Use the next code cell to preprocess your test data.  Make sure that you use a method that agrees with how you preprocessed the training and validation data, and set the preprocessed test features to `final_X_test`.\n",
    "\n",
    "Then, use the preprocessed test features and the trained model to generate test predictions in `preds_test`.\n",
    "\n",
    "In order for this step to be marked correct, you need only ensure:\n",
    "- the preprocessed test DataFrame has no missing values, and\n",
    "- `final_X_test` has the same number of rows as `X_test`."
   ]
  },
  {
   "cell_type": "code",
   "execution_count": 23,
   "id": "b05dfb33",
   "metadata": {
    "execution": {
     "iopub.execute_input": "2023-11-10T18:27:38.298311Z",
     "iopub.status.busy": "2023-11-10T18:27:38.297839Z",
     "iopub.status.idle": "2023-11-10T18:27:38.359646Z",
     "shell.execute_reply": "2023-11-10T18:27:38.358460Z"
    },
    "papermill": {
     "duration": 0.083699,
     "end_time": "2023-11-10T18:27:38.363083",
     "exception": false,
     "start_time": "2023-11-10T18:27:38.279384",
     "status": "completed"
    },
    "tags": []
   },
   "outputs": [
    {
     "name": "stdout",
     "output_type": "stream",
     "text": [
      "[IterativeImputer] Completing matrix with shape (1459, 36)\n",
      "[IterativeImputer] Ending imputation round 1/1, elapsed time 0.00\n"
     ]
    },
    {
     "name": "stderr",
     "output_type": "stream",
     "text": [
      "/opt/conda/lib/python3.10/site-packages/sklearn/base.py:439: UserWarning: X does not have valid feature names, but RandomForestRegressor was fitted with feature names\n",
      "  warnings.warn(\n"
     ]
    },
    {
     "data": {
      "application/javascript": [
       "parent.postMessage({\"jupyterEvent\": \"custom.exercise_interaction\", \"data\": {\"outcomeType\": 1, \"valueTowardsCompletion\": 1.0, \"interactionType\": 1, \"questionType\": 2, \"questionId\": \"4.2_PredsCodeB\", \"learnToolsVersion\": \"0.3.4\", \"failureMessage\": \"\", \"exceptionClass\": \"\", \"trace\": \"\"}}, \"*\")"
      ],
      "text/plain": [
       "<IPython.core.display.Javascript object>"
      ]
     },
     "metadata": {},
     "output_type": "display_data"
    },
    {
     "data": {
      "text/markdown": [
       "<span style=\"color:#33cc33\">Correct</span>"
      ],
      "text/plain": [
       "Correct"
      ]
     },
     "metadata": {},
     "output_type": "display_data"
    }
   ],
   "source": [
    "# Fill in the line below: preprocess test data\n",
    "final_X_test = pd.DataFrame(iterative_imputer.transform(X_test))\n",
    "\n",
    "# Fill in the line below: get test predictions\n",
    "preds_test = model.predict(final_X_test)\n",
    "\n",
    "# Check your answers\n",
    "step_4.b.check()"
   ]
  },
  {
   "cell_type": "code",
   "execution_count": 24,
   "id": "77846834",
   "metadata": {
    "execution": {
     "iopub.execute_input": "2023-11-10T18:27:38.401024Z",
     "iopub.status.busy": "2023-11-10T18:27:38.400164Z",
     "iopub.status.idle": "2023-11-10T18:27:38.409460Z",
     "shell.execute_reply": "2023-11-10T18:27:38.408406Z"
    },
    "papermill": {
     "duration": 0.031184,
     "end_time": "2023-11-10T18:27:38.411982",
     "exception": false,
     "start_time": "2023-11-10T18:27:38.380798",
     "status": "completed"
    },
    "tags": []
   },
   "outputs": [
    {
     "data": {
      "application/javascript": [
       "parent.postMessage({\"jupyterEvent\": \"custom.exercise_interaction\", \"data\": {\"interactionType\": 3, \"questionType\": 2, \"questionId\": \"4.2_PredsCodeB\", \"learnToolsVersion\": \"0.3.4\", \"valueTowardsCompletion\": 0.0, \"failureMessage\": \"\", \"exceptionClass\": \"\", \"trace\": \"\", \"outcomeType\": 4}}, \"*\")"
      ],
      "text/plain": [
       "<IPython.core.display.Javascript object>"
      ]
     },
     "metadata": {},
     "output_type": "display_data"
    },
    {
     "data": {
      "text/markdown": [
       "<span style=\"color:#33cc99\">Solution:</span> \n",
       "```python\n",
       "# Preprocess test data\n",
       "final_X_test = pd.DataFrame(final_imputer.transform(X_test))\n",
       "\n",
       "# Get test predictions\n",
       "preds_test = model.predict(final_X_test)\n",
       "\n",
       "```"
      ],
      "text/plain": [
       "Solution: \n",
       "```python\n",
       "# Preprocess test data\n",
       "final_X_test = pd.DataFrame(final_imputer.transform(X_test))\n",
       "\n",
       "# Get test predictions\n",
       "preds_test = model.predict(final_X_test)\n",
       "\n",
       "```"
      ]
     },
     "metadata": {},
     "output_type": "display_data"
    }
   ],
   "source": [
    "# Lines below will give you a hint or solution code\n",
    "#step_4.b.hint()\n",
    "step_4.b.solution()"
   ]
  },
  {
   "cell_type": "markdown",
   "id": "1d64f31b",
   "metadata": {
    "papermill": {
     "duration": 0.017596,
     "end_time": "2023-11-10T18:27:38.447442",
     "exception": false,
     "start_time": "2023-11-10T18:27:38.429846",
     "status": "completed"
    },
    "tags": []
   },
   "source": [
    "Run the next code cell without changes to save your results to a CSV file that can be submitted directly to the competition."
   ]
  },
  {
   "cell_type": "code",
   "execution_count": 25,
   "id": "c2c9fe3a",
   "metadata": {
    "execution": {
     "iopub.execute_input": "2023-11-10T18:27:38.485873Z",
     "iopub.status.busy": "2023-11-10T18:27:38.484899Z",
     "iopub.status.idle": "2023-11-10T18:27:38.499349Z",
     "shell.execute_reply": "2023-11-10T18:27:38.498211Z"
    },
    "papermill": {
     "duration": 0.036784,
     "end_time": "2023-11-10T18:27:38.501855",
     "exception": false,
     "start_time": "2023-11-10T18:27:38.465071",
     "status": "completed"
    },
    "tags": []
   },
   "outputs": [],
   "source": [
    "# Save test predictions to file\n",
    "output = pd.DataFrame({'Id': X_test.index,\n",
    "                       'SalePrice': preds_test})\n",
    "output.to_csv('submission.csv', index=False)"
   ]
  },
  {
   "cell_type": "markdown",
   "id": "b3448b64",
   "metadata": {
    "papermill": {
     "duration": 0.017609,
     "end_time": "2023-11-10T18:27:38.537404",
     "exception": false,
     "start_time": "2023-11-10T18:27:38.519795",
     "status": "completed"
    },
    "tags": []
   },
   "source": [
    "# Submit your results\n",
    "\n",
    "Once you have successfully completed Step 4, you're ready to submit your results to the leaderboard!  (_You also learned how to do this in the previous exercise.  If you need a reminder of how to do this, please use the instructions below._)  \n",
    "\n",
    "First, you'll need to join the competition if you haven't already.  So open a new window by clicking on [this link](https://www.kaggle.com/c/home-data-for-ml-course).  Then click on the **Join Competition** button.\n",
    "\n",
    "![join competition image](https://storage.googleapis.com/kaggle-media/learn/images/wLmFtH3.png)\n",
    "\n",
    "Next, follow the instructions below:\n",
    "1. Begin by clicking on the **Save Version** button in the top right corner of the window.  This will generate a pop-up window.  \n",
    "2. Ensure that the **Save and Run All** option is selected, and then click on the **Save** button.\n",
    "3. This generates a window in the bottom left corner of the notebook.  After it has finished running, click on the number to the right of the **Save Version** button.  This pulls up a list of versions on the right of the screen.  Click on the ellipsis **(...)** to the right of the most recent version, and select **Open in Viewer**.  This brings you into view mode of the same page. You will need to scroll down to get back to these instructions.\n",
    "4. Click on the **Data** tab near the top of the screen.  Then, click on the file you would like to submit, and click on the **Submit** button to submit your results to the leaderboard.\n",
    "\n",
    "You have now successfully submitted to the competition!\n",
    "\n",
    "If you want to keep working to improve your performance, select the **Edit** button in the top right of the screen. Then you can change your code and repeat the process. There's a lot of room to improve, and you will climb up the leaderboard as you work.\n",
    "\n",
    "\n",
    "# Keep going\n",
    "\n",
    "Move on to learn what **[categorical variables](https://www.kaggle.com/alexisbcook/categorical-variables)** are, along with how to incorporate them into your machine learning models.  Categorical variables are very common in real-world data, but you'll get an error if you try to plug them into your models without processing them first!"
   ]
  },
  {
   "cell_type": "markdown",
   "id": "35972dec",
   "metadata": {
    "papermill": {
     "duration": 0.016951,
     "end_time": "2023-11-10T18:27:38.571745",
     "exception": false,
     "start_time": "2023-11-10T18:27:38.554794",
     "status": "completed"
    },
    "tags": []
   },
   "source": [
    "---\n",
    "\n",
    "\n",
    "\n",
    "\n",
    "*Have questions or comments? Visit the [course discussion forum](https://www.kaggle.com/learn/intermediate-machine-learning/discussion) to chat with other learners.*"
   ]
  }
 ],
 "metadata": {
  "kernelspec": {
   "display_name": "Python 3",
   "language": "python",
   "name": "python3"
  },
  "language_info": {
   "codemirror_mode": {
    "name": "ipython",
    "version": 3
   },
   "file_extension": ".py",
   "mimetype": "text/x-python",
   "name": "python",
   "nbconvert_exporter": "python",
   "pygments_lexer": "ipython3",
   "version": "3.10.12"
  },
  "papermill": {
   "default_parameters": {},
   "duration": 16.312374,
   "end_time": "2023-11-10T18:27:39.313445",
   "environment_variables": {},
   "exception": null,
   "input_path": "__notebook__.ipynb",
   "output_path": "__notebook__.ipynb",
   "parameters": {},
   "start_time": "2023-11-10T18:27:23.001071",
   "version": "2.4.0"
  }
 },
 "nbformat": 4,
 "nbformat_minor": 5
}
