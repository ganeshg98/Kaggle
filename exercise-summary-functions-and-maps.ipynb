{
 "cells": [
  {
   "cell_type": "markdown",
   "id": "c9f91833",
   "metadata": {
    "papermill": {
     "duration": 0.008373,
     "end_time": "2023-10-31T19:56:09.598750",
     "exception": false,
     "start_time": "2023-10-31T19:56:09.590377",
     "status": "completed"
    },
    "tags": []
   },
   "source": [
    "**This notebook is an exercise in the [Pandas](https://www.kaggle.com/learn/pandas) course.  You can reference the tutorial at [this link](https://www.kaggle.com/residentmario/summary-functions-and-maps).**\n",
    "\n",
    "---\n"
   ]
  },
  {
   "cell_type": "markdown",
   "id": "6e886afb",
   "metadata": {
    "papermill": {
     "duration": 0.007752,
     "end_time": "2023-10-31T19:56:09.614528",
     "exception": false,
     "start_time": "2023-10-31T19:56:09.606776",
     "status": "completed"
    },
    "tags": []
   },
   "source": [
    "# Introduction\n",
    "\n",
    "Now you are ready to get a deeper understanding of your data.\n",
    "\n",
    "Run the following cell to load your data and some utility functions (including code to check your answers)."
   ]
  },
  {
   "cell_type": "code",
   "execution_count": 1,
   "id": "db2baae5",
   "metadata": {
    "execution": {
     "iopub.execute_input": "2023-10-31T19:56:09.632070Z",
     "iopub.status.busy": "2023-10-31T19:56:09.631670Z",
     "iopub.status.idle": "2023-10-31T19:56:18.514295Z",
     "shell.execute_reply": "2023-10-31T19:56:18.513166Z"
    },
    "papermill": {
     "duration": 8.895313,
     "end_time": "2023-10-31T19:56:18.517730",
     "exception": false,
     "start_time": "2023-10-31T19:56:09.622417",
     "status": "completed"
    },
    "tags": []
   },
   "outputs": [
    {
     "name": "stdout",
     "output_type": "stream",
     "text": [
      "Setup complete.\n"
     ]
    },
    {
     "data": {
      "text/html": [
       "<div>\n",
       "<style scoped>\n",
       "    .dataframe tbody tr th:only-of-type {\n",
       "        vertical-align: middle;\n",
       "    }\n",
       "\n",
       "    .dataframe tbody tr th {\n",
       "        vertical-align: top;\n",
       "    }\n",
       "\n",
       "    .dataframe thead th {\n",
       "        text-align: right;\n",
       "    }\n",
       "</style>\n",
       "<table border=\"1\" class=\"dataframe\">\n",
       "  <thead>\n",
       "    <tr style=\"text-align: right;\">\n",
       "      <th></th>\n",
       "      <th>country</th>\n",
       "      <th>description</th>\n",
       "      <th>designation</th>\n",
       "      <th>points</th>\n",
       "      <th>price</th>\n",
       "      <th>province</th>\n",
       "      <th>region_1</th>\n",
       "      <th>region_2</th>\n",
       "      <th>taster_name</th>\n",
       "      <th>taster_twitter_handle</th>\n",
       "      <th>title</th>\n",
       "      <th>variety</th>\n",
       "      <th>winery</th>\n",
       "    </tr>\n",
       "  </thead>\n",
       "  <tbody>\n",
       "    <tr>\n",
       "      <th>0</th>\n",
       "      <td>Italy</td>\n",
       "      <td>Aromas include tropical fruit, broom, brimston...</td>\n",
       "      <td>Vulkà Bianco</td>\n",
       "      <td>87</td>\n",
       "      <td>NaN</td>\n",
       "      <td>Sicily &amp; Sardinia</td>\n",
       "      <td>Etna</td>\n",
       "      <td>NaN</td>\n",
       "      <td>Kerin O’Keefe</td>\n",
       "      <td>@kerinokeefe</td>\n",
       "      <td>Nicosia 2013 Vulkà Bianco  (Etna)</td>\n",
       "      <td>White Blend</td>\n",
       "      <td>Nicosia</td>\n",
       "    </tr>\n",
       "    <tr>\n",
       "      <th>1</th>\n",
       "      <td>Portugal</td>\n",
       "      <td>This is ripe and fruity, a wine that is smooth...</td>\n",
       "      <td>Avidagos</td>\n",
       "      <td>87</td>\n",
       "      <td>15.0</td>\n",
       "      <td>Douro</td>\n",
       "      <td>NaN</td>\n",
       "      <td>NaN</td>\n",
       "      <td>Roger Voss</td>\n",
       "      <td>@vossroger</td>\n",
       "      <td>Quinta dos Avidagos 2011 Avidagos Red (Douro)</td>\n",
       "      <td>Portuguese Red</td>\n",
       "      <td>Quinta dos Avidagos</td>\n",
       "    </tr>\n",
       "    <tr>\n",
       "      <th>...</th>\n",
       "      <td>...</td>\n",
       "      <td>...</td>\n",
       "      <td>...</td>\n",
       "      <td>...</td>\n",
       "      <td>...</td>\n",
       "      <td>...</td>\n",
       "      <td>...</td>\n",
       "      <td>...</td>\n",
       "      <td>...</td>\n",
       "      <td>...</td>\n",
       "      <td>...</td>\n",
       "      <td>...</td>\n",
       "      <td>...</td>\n",
       "    </tr>\n",
       "    <tr>\n",
       "      <th>129969</th>\n",
       "      <td>France</td>\n",
       "      <td>A dry style of Pinot Gris, this is crisp with ...</td>\n",
       "      <td>NaN</td>\n",
       "      <td>90</td>\n",
       "      <td>32.0</td>\n",
       "      <td>Alsace</td>\n",
       "      <td>Alsace</td>\n",
       "      <td>NaN</td>\n",
       "      <td>Roger Voss</td>\n",
       "      <td>@vossroger</td>\n",
       "      <td>Domaine Marcel Deiss 2012 Pinot Gris (Alsace)</td>\n",
       "      <td>Pinot Gris</td>\n",
       "      <td>Domaine Marcel Deiss</td>\n",
       "    </tr>\n",
       "    <tr>\n",
       "      <th>129970</th>\n",
       "      <td>France</td>\n",
       "      <td>Big, rich and off-dry, this is powered by inte...</td>\n",
       "      <td>Lieu-dit Harth Cuvée Caroline</td>\n",
       "      <td>90</td>\n",
       "      <td>21.0</td>\n",
       "      <td>Alsace</td>\n",
       "      <td>Alsace</td>\n",
       "      <td>NaN</td>\n",
       "      <td>Roger Voss</td>\n",
       "      <td>@vossroger</td>\n",
       "      <td>Domaine Schoffit 2012 Lieu-dit Harth Cuvée Car...</td>\n",
       "      <td>Gewürztraminer</td>\n",
       "      <td>Domaine Schoffit</td>\n",
       "    </tr>\n",
       "  </tbody>\n",
       "</table>\n",
       "<p>129971 rows × 13 columns</p>\n",
       "</div>"
      ],
      "text/plain": [
       "         country                                        description  \\\n",
       "0          Italy  Aromas include tropical fruit, broom, brimston...   \n",
       "1       Portugal  This is ripe and fruity, a wine that is smooth...   \n",
       "...          ...                                                ...   \n",
       "129969    France  A dry style of Pinot Gris, this is crisp with ...   \n",
       "129970    France  Big, rich and off-dry, this is powered by inte...   \n",
       "\n",
       "                          designation  points  price           province  \\\n",
       "0                        Vulkà Bianco      87    NaN  Sicily & Sardinia   \n",
       "1                            Avidagos      87   15.0              Douro   \n",
       "...                               ...     ...    ...                ...   \n",
       "129969                            NaN      90   32.0             Alsace   \n",
       "129970  Lieu-dit Harth Cuvée Caroline      90   21.0             Alsace   \n",
       "\n",
       "       region_1 region_2    taster_name taster_twitter_handle  \\\n",
       "0          Etna      NaN  Kerin O’Keefe          @kerinokeefe   \n",
       "1           NaN      NaN     Roger Voss            @vossroger   \n",
       "...         ...      ...            ...                   ...   \n",
       "129969   Alsace      NaN     Roger Voss            @vossroger   \n",
       "129970   Alsace      NaN     Roger Voss            @vossroger   \n",
       "\n",
       "                                                    title         variety  \\\n",
       "0                       Nicosia 2013 Vulkà Bianco  (Etna)     White Blend   \n",
       "1           Quinta dos Avidagos 2011 Avidagos Red (Douro)  Portuguese Red   \n",
       "...                                                   ...             ...   \n",
       "129969      Domaine Marcel Deiss 2012 Pinot Gris (Alsace)      Pinot Gris   \n",
       "129970  Domaine Schoffit 2012 Lieu-dit Harth Cuvée Car...  Gewürztraminer   \n",
       "\n",
       "                      winery  \n",
       "0                    Nicosia  \n",
       "1        Quinta dos Avidagos  \n",
       "...                      ...  \n",
       "129969  Domaine Marcel Deiss  \n",
       "129970      Domaine Schoffit  \n",
       "\n",
       "[129971 rows x 13 columns]"
      ]
     },
     "execution_count": 1,
     "metadata": {},
     "output_type": "execute_result"
    }
   ],
   "source": [
    "import pandas as pd\n",
    "pd.set_option(\"display.max_rows\", 5)\n",
    "reviews = pd.read_csv(\"../input/wine-reviews/winemag-data-130k-v2.csv\", index_col=0)\n",
    "\n",
    "from learntools.core import binder; binder.bind(globals())\n",
    "from learntools.pandas.summary_functions_and_maps import *\n",
    "print(\"Setup complete.\")\n",
    "\n",
    "reviews\n"
   ]
  },
  {
   "cell_type": "markdown",
   "id": "d73bb774",
   "metadata": {
    "papermill": {
     "duration": 0.008151,
     "end_time": "2023-10-31T19:56:18.534435",
     "exception": false,
     "start_time": "2023-10-31T19:56:18.526284",
     "status": "completed"
    },
    "tags": []
   },
   "source": [
    "# Exercises"
   ]
  },
  {
   "cell_type": "markdown",
   "id": "07683eb9",
   "metadata": {
    "papermill": {
     "duration": 0.008608,
     "end_time": "2023-10-31T19:56:18.551898",
     "exception": false,
     "start_time": "2023-10-31T19:56:18.543290",
     "status": "completed"
    },
    "tags": []
   },
   "source": [
    "## 1.\n",
    "\n",
    "What is the median of the `points` column in the `reviews` DataFrame?"
   ]
  },
  {
   "cell_type": "code",
   "execution_count": 2,
   "id": "e413a353",
   "metadata": {
    "execution": {
     "iopub.execute_input": "2023-10-31T19:56:18.571667Z",
     "iopub.status.busy": "2023-10-31T19:56:18.570909Z",
     "iopub.status.idle": "2023-10-31T19:56:18.582294Z",
     "shell.execute_reply": "2023-10-31T19:56:18.581071Z"
    },
    "papermill": {
     "duration": 0.023625,
     "end_time": "2023-10-31T19:56:18.584543",
     "exception": false,
     "start_time": "2023-10-31T19:56:18.560918",
     "status": "completed"
    },
    "tags": []
   },
   "outputs": [
    {
     "data": {
      "application/javascript": [
       "parent.postMessage({\"jupyterEvent\": \"custom.exercise_interaction\", \"data\": {\"outcomeType\": 1, \"valueTowardsCompletion\": 0.14285714285714285, \"interactionType\": 1, \"questionType\": 1, \"questionId\": \"1_MedianPoints\", \"learnToolsVersion\": \"0.3.4\", \"failureMessage\": \"\", \"exceptionClass\": \"\", \"trace\": \"\"}}, \"*\")"
      ],
      "text/plain": [
       "<IPython.core.display.Javascript object>"
      ]
     },
     "metadata": {},
     "output_type": "display_data"
    },
    {
     "data": {
      "text/markdown": [
       "<span style=\"color:#33cc33\">Correct</span>"
      ],
      "text/plain": [
       "Correct"
      ]
     },
     "metadata": {},
     "output_type": "display_data"
    }
   ],
   "source": [
    "median_points = reviews['points'].median()\n",
    "\n",
    "# Check your answer\n",
    "q1.check()"
   ]
  },
  {
   "cell_type": "code",
   "execution_count": 3,
   "id": "c37569ec",
   "metadata": {
    "execution": {
     "iopub.execute_input": "2023-10-31T19:56:18.604904Z",
     "iopub.status.busy": "2023-10-31T19:56:18.603632Z",
     "iopub.status.idle": "2023-10-31T19:56:18.607894Z",
     "shell.execute_reply": "2023-10-31T19:56:18.607186Z"
    },
    "papermill": {
     "duration": 0.01649,
     "end_time": "2023-10-31T19:56:18.610061",
     "exception": false,
     "start_time": "2023-10-31T19:56:18.593571",
     "status": "completed"
    },
    "tags": []
   },
   "outputs": [],
   "source": [
    "#q1.hint()\n",
    "#q1.solution()"
   ]
  },
  {
   "cell_type": "markdown",
   "id": "17de178f",
   "metadata": {
    "papermill": {
     "duration": 0.008556,
     "end_time": "2023-10-31T19:56:18.627994",
     "exception": false,
     "start_time": "2023-10-31T19:56:18.619438",
     "status": "completed"
    },
    "tags": []
   },
   "source": [
    "## 2. \n",
    "What countries are represented in the dataset? (Your answer should not include any duplicates.)"
   ]
  },
  {
   "cell_type": "code",
   "execution_count": 4,
   "id": "83088118",
   "metadata": {
    "execution": {
     "iopub.execute_input": "2023-10-31T19:56:18.647480Z",
     "iopub.status.busy": "2023-10-31T19:56:18.646807Z",
     "iopub.status.idle": "2023-10-31T19:56:18.663435Z",
     "shell.execute_reply": "2023-10-31T19:56:18.662258Z"
    },
    "papermill": {
     "duration": 0.028997,
     "end_time": "2023-10-31T19:56:18.665665",
     "exception": false,
     "start_time": "2023-10-31T19:56:18.636668",
     "status": "completed"
    },
    "tags": []
   },
   "outputs": [
    {
     "data": {
      "application/javascript": [
       "parent.postMessage({\"jupyterEvent\": \"custom.exercise_interaction\", \"data\": {\"outcomeType\": 1, \"valueTowardsCompletion\": 0.14285714285714285, \"interactionType\": 1, \"questionType\": 2, \"questionId\": \"2_UniqueCountries\", \"learnToolsVersion\": \"0.3.4\", \"failureMessage\": \"\", \"exceptionClass\": \"\", \"trace\": \"\"}}, \"*\")"
      ],
      "text/plain": [
       "<IPython.core.display.Javascript object>"
      ]
     },
     "metadata": {},
     "output_type": "display_data"
    },
    {
     "data": {
      "text/markdown": [
       "<span style=\"color:#33cc33\">Correct</span>"
      ],
      "text/plain": [
       "Correct"
      ]
     },
     "metadata": {},
     "output_type": "display_data"
    }
   ],
   "source": [
    "countries = reviews['country'].drop_duplicates() #or .unique() also works\n",
    "\n",
    "# Check your answer\n",
    "q2.check()"
   ]
  },
  {
   "cell_type": "code",
   "execution_count": 5,
   "id": "f375157f",
   "metadata": {
    "execution": {
     "iopub.execute_input": "2023-10-31T19:56:18.685908Z",
     "iopub.status.busy": "2023-10-31T19:56:18.685145Z",
     "iopub.status.idle": "2023-10-31T19:56:18.692322Z",
     "shell.execute_reply": "2023-10-31T19:56:18.691498Z"
    },
    "papermill": {
     "duration": 0.019596,
     "end_time": "2023-10-31T19:56:18.694307",
     "exception": false,
     "start_time": "2023-10-31T19:56:18.674711",
     "status": "completed"
    },
    "tags": []
   },
   "outputs": [
    {
     "data": {
      "application/javascript": [
       "parent.postMessage({\"jupyterEvent\": \"custom.exercise_interaction\", \"data\": {\"interactionType\": 3, \"questionType\": 2, \"questionId\": \"2_UniqueCountries\", \"learnToolsVersion\": \"0.3.4\", \"valueTowardsCompletion\": 0.0, \"failureMessage\": \"\", \"exceptionClass\": \"\", \"trace\": \"\", \"outcomeType\": 4}}, \"*\")"
      ],
      "text/plain": [
       "<IPython.core.display.Javascript object>"
      ]
     },
     "metadata": {},
     "output_type": "display_data"
    },
    {
     "data": {
      "text/markdown": [
       "<span style=\"color:#33cc99\">Solution:</span> \n",
       "```python\n",
       "countries = reviews.country.unique()\n",
       "```"
      ],
      "text/plain": [
       "Solution: \n",
       "```python\n",
       "countries = reviews.country.unique()\n",
       "```"
      ]
     },
     "metadata": {},
     "output_type": "display_data"
    }
   ],
   "source": [
    "#q2.hint()\n",
    "q2.solution()"
   ]
  },
  {
   "cell_type": "markdown",
   "id": "a94a47a0",
   "metadata": {
    "papermill": {
     "duration": 0.008922,
     "end_time": "2023-10-31T19:56:18.712565",
     "exception": false,
     "start_time": "2023-10-31T19:56:18.703643",
     "status": "completed"
    },
    "tags": []
   },
   "source": [
    "## 3.\n",
    "How often does each country appear in the dataset? Create a Series `reviews_per_country` mapping countries to the count of reviews of wines from that country."
   ]
  },
  {
   "cell_type": "code",
   "execution_count": 6,
   "id": "6b745b83",
   "metadata": {
    "execution": {
     "iopub.execute_input": "2023-10-31T19:56:18.733361Z",
     "iopub.status.busy": "2023-10-31T19:56:18.732612Z",
     "iopub.status.idle": "2023-10-31T19:56:18.761384Z",
     "shell.execute_reply": "2023-10-31T19:56:18.760520Z"
    },
    "papermill": {
     "duration": 0.04153,
     "end_time": "2023-10-31T19:56:18.763385",
     "exception": false,
     "start_time": "2023-10-31T19:56:18.721855",
     "status": "completed"
    },
    "tags": []
   },
   "outputs": [
    {
     "data": {
      "application/javascript": [
       "parent.postMessage({\"jupyterEvent\": \"custom.exercise_interaction\", \"data\": {\"outcomeType\": 1, \"valueTowardsCompletion\": 0.14285714285714285, \"interactionType\": 1, \"questionType\": 1, \"questionId\": \"3_ReviewsPerCountry\", \"learnToolsVersion\": \"0.3.4\", \"failureMessage\": \"\", \"exceptionClass\": \"\", \"trace\": \"\"}}, \"*\")"
      ],
      "text/plain": [
       "<IPython.core.display.Javascript object>"
      ]
     },
     "metadata": {},
     "output_type": "display_data"
    },
    {
     "data": {
      "text/markdown": [
       "<span style=\"color:#33cc33\">Correct</span>"
      ],
      "text/plain": [
       "Correct"
      ]
     },
     "metadata": {},
     "output_type": "display_data"
    }
   ],
   "source": [
    "#gets a DF\n",
    "#reviews_per_country = reviews[['country','points']]\n",
    "# Check your answer\n",
    "\n",
    "#reviews_per_country=reviews_per_country.set_index('country')\n",
    "reviews_per_country=reviews['country'].value_counts()\n",
    "reviews_per_country\n",
    "\n",
    "\n",
    "q3.check()"
   ]
  },
  {
   "cell_type": "code",
   "execution_count": 7,
   "id": "ed1b2b55",
   "metadata": {
    "execution": {
     "iopub.execute_input": "2023-10-31T19:56:18.785043Z",
     "iopub.status.busy": "2023-10-31T19:56:18.784314Z",
     "iopub.status.idle": "2023-10-31T19:56:18.791515Z",
     "shell.execute_reply": "2023-10-31T19:56:18.790749Z"
    },
    "papermill": {
     "duration": 0.020404,
     "end_time": "2023-10-31T19:56:18.793544",
     "exception": false,
     "start_time": "2023-10-31T19:56:18.773140",
     "status": "completed"
    },
    "tags": []
   },
   "outputs": [
    {
     "data": {
      "application/javascript": [
       "parent.postMessage({\"jupyterEvent\": \"custom.exercise_interaction\", \"data\": {\"interactionType\": 3, \"questionType\": 1, \"questionId\": \"3_ReviewsPerCountry\", \"learnToolsVersion\": \"0.3.4\", \"valueTowardsCompletion\": 0.0, \"failureMessage\": \"\", \"exceptionClass\": \"\", \"trace\": \"\", \"outcomeType\": 4}}, \"*\")"
      ],
      "text/plain": [
       "<IPython.core.display.Javascript object>"
      ]
     },
     "metadata": {},
     "output_type": "display_data"
    },
    {
     "data": {
      "text/markdown": [
       "<span style=\"color:#33cc99\">Solution:</span> \n",
       "```python\n",
       "reviews_per_country = reviews.country.value_counts()\n",
       "```"
      ],
      "text/plain": [
       "Solution: \n",
       "```python\n",
       "reviews_per_country = reviews.country.value_counts()\n",
       "```"
      ]
     },
     "metadata": {},
     "output_type": "display_data"
    }
   ],
   "source": [
    "#q3.hint()\n",
    "q3.solution()"
   ]
  },
  {
   "cell_type": "markdown",
   "id": "8823836f",
   "metadata": {
    "papermill": {
     "duration": 0.009714,
     "end_time": "2023-10-31T19:56:18.813239",
     "exception": false,
     "start_time": "2023-10-31T19:56:18.803525",
     "status": "completed"
    },
    "tags": []
   },
   "source": [
    "## 4.\n",
    "Create variable `centered_price` containing a version of the `price` column with the mean price subtracted.\n",
    "\n",
    "(Note: this 'centering' transformation is a common preprocessing step before applying various machine learning algorithms.) "
   ]
  },
  {
   "cell_type": "code",
   "execution_count": 8,
   "id": "dc2ab41a",
   "metadata": {
    "execution": {
     "iopub.execute_input": "2023-10-31T19:56:18.835393Z",
     "iopub.status.busy": "2023-10-31T19:56:18.834644Z",
     "iopub.status.idle": "2023-10-31T19:56:18.845906Z",
     "shell.execute_reply": "2023-10-31T19:56:18.844542Z"
    },
    "papermill": {
     "duration": 0.024768,
     "end_time": "2023-10-31T19:56:18.848048",
     "exception": false,
     "start_time": "2023-10-31T19:56:18.823280",
     "status": "completed"
    },
    "tags": []
   },
   "outputs": [
    {
     "data": {
      "application/javascript": [
       "parent.postMessage({\"jupyterEvent\": \"custom.exercise_interaction\", \"data\": {\"outcomeType\": 1, \"valueTowardsCompletion\": 0.14285714285714285, \"interactionType\": 1, \"questionType\": 1, \"questionId\": \"4_CenteredPrice\", \"learnToolsVersion\": \"0.3.4\", \"failureMessage\": \"\", \"exceptionClass\": \"\", \"trace\": \"\"}}, \"*\")"
      ],
      "text/plain": [
       "<IPython.core.display.Javascript object>"
      ]
     },
     "metadata": {},
     "output_type": "display_data"
    },
    {
     "data": {
      "text/markdown": [
       "<span style=\"color:#33cc33\">Correct</span>"
      ],
      "text/plain": [
       "Correct"
      ]
     },
     "metadata": {},
     "output_type": "display_data"
    }
   ],
   "source": [
    "mean = reviews['price'].mean()\n",
    "centered_price=reviews['price']-mean\n",
    "centered_price\n",
    "\n",
    "# Check your answer\n",
    "q4.check()"
   ]
  },
  {
   "cell_type": "code",
   "execution_count": 9,
   "id": "ac5f3849",
   "metadata": {
    "execution": {
     "iopub.execute_input": "2023-10-31T19:56:18.870599Z",
     "iopub.status.busy": "2023-10-31T19:56:18.870168Z",
     "iopub.status.idle": "2023-10-31T19:56:18.875116Z",
     "shell.execute_reply": "2023-10-31T19:56:18.873818Z"
    },
    "papermill": {
     "duration": 0.018929,
     "end_time": "2023-10-31T19:56:18.877331",
     "exception": false,
     "start_time": "2023-10-31T19:56:18.858402",
     "status": "completed"
    },
    "tags": []
   },
   "outputs": [],
   "source": [
    "#q4.hint()\n",
    "#q4.solution()"
   ]
  },
  {
   "cell_type": "markdown",
   "id": "439759e9",
   "metadata": {
    "papermill": {
     "duration": 0.010053,
     "end_time": "2023-10-31T19:56:18.897908",
     "exception": false,
     "start_time": "2023-10-31T19:56:18.887855",
     "status": "completed"
    },
    "tags": []
   },
   "source": [
    "## 5.\n",
    "I'm an economical wine buyer. Which wine is the \"best bargain\"? Create a variable `bargain_wine` with the title of the wine with the highest points-to-price ratio in the dataset."
   ]
  },
  {
   "cell_type": "code",
   "execution_count": 10,
   "id": "8b317ca7",
   "metadata": {
    "execution": {
     "iopub.execute_input": "2023-10-31T19:56:18.920606Z",
     "iopub.status.busy": "2023-10-31T19:56:18.920153Z",
     "iopub.status.idle": "2023-10-31T19:56:18.934994Z",
     "shell.execute_reply": "2023-10-31T19:56:18.933897Z"
    },
    "papermill": {
     "duration": 0.029071,
     "end_time": "2023-10-31T19:56:18.937486",
     "exception": false,
     "start_time": "2023-10-31T19:56:18.908415",
     "status": "completed"
    },
    "tags": []
   },
   "outputs": [
    {
     "data": {
      "application/javascript": [
       "parent.postMessage({\"jupyterEvent\": \"custom.exercise_interaction\", \"data\": {\"outcomeType\": 1, \"valueTowardsCompletion\": 0.14285714285714285, \"interactionType\": 1, \"questionType\": 2, \"questionId\": \"5_BargainWine\", \"learnToolsVersion\": \"0.3.4\", \"failureMessage\": \"\", \"exceptionClass\": \"\", \"trace\": \"\"}}, \"*\")"
      ],
      "text/plain": [
       "<IPython.core.display.Javascript object>"
      ]
     },
     "metadata": {},
     "output_type": "display_data"
    },
    {
     "data": {
      "text/markdown": [
       "<span style=\"color:#33cc33\">Correct</span>"
      ],
      "text/plain": [
       "Correct"
      ]
     },
     "metadata": {},
     "output_type": "display_data"
    }
   ],
   "source": [
    "bargain_idx = (reviews.points / reviews.price).idxmax()\n",
    "bargain_wine = reviews.loc[bargain_idx, 'title']\n",
    "\n",
    "\n",
    "# Check your answer\n",
    "q5.check()"
   ]
  },
  {
   "cell_type": "code",
   "execution_count": 11,
   "id": "305b53df",
   "metadata": {
    "execution": {
     "iopub.execute_input": "2023-10-31T19:56:18.961864Z",
     "iopub.status.busy": "2023-10-31T19:56:18.960893Z",
     "iopub.status.idle": "2023-10-31T19:56:18.970234Z",
     "shell.execute_reply": "2023-10-31T19:56:18.969398Z"
    },
    "papermill": {
     "duration": 0.023933,
     "end_time": "2023-10-31T19:56:18.972486",
     "exception": false,
     "start_time": "2023-10-31T19:56:18.948553",
     "status": "completed"
    },
    "tags": []
   },
   "outputs": [
    {
     "data": {
      "application/javascript": [
       "parent.postMessage({\"jupyterEvent\": \"custom.exercise_interaction\", \"data\": {\"interactionType\": 3, \"questionType\": 2, \"questionId\": \"5_BargainWine\", \"learnToolsVersion\": \"0.3.4\", \"valueTowardsCompletion\": 0.0, \"failureMessage\": \"\", \"exceptionClass\": \"\", \"trace\": \"\", \"outcomeType\": 4}}, \"*\")"
      ],
      "text/plain": [
       "<IPython.core.display.Javascript object>"
      ]
     },
     "metadata": {},
     "output_type": "display_data"
    },
    {
     "data": {
      "text/markdown": [
       "<span style=\"color:#33cc99\">Solution:</span> \n",
       "```python\n",
       "bargain_idx = (reviews.points / reviews.price).idxmax()\n",
       "bargain_wine = reviews.loc[bargain_idx, 'title']\n",
       "```"
      ],
      "text/plain": [
       "Solution: \n",
       "```python\n",
       "bargain_idx = (reviews.points / reviews.price).idxmax()\n",
       "bargain_wine = reviews.loc[bargain_idx, 'title']\n",
       "```"
      ]
     },
     "metadata": {},
     "output_type": "display_data"
    }
   ],
   "source": [
    "#q5.hint()\n",
    "q5.solution()"
   ]
  },
  {
   "cell_type": "markdown",
   "id": "e10dffe8",
   "metadata": {
    "papermill": {
     "duration": 0.010647,
     "end_time": "2023-10-31T19:56:18.994032",
     "exception": false,
     "start_time": "2023-10-31T19:56:18.983385",
     "status": "completed"
    },
    "tags": []
   },
   "source": [
    "## 6.\n",
    "There are only so many words you can use when describing a bottle of wine. Is a wine more likely to be \"tropical\" or \"fruity\"? Create a Series `descriptor_counts` counting how many times each of these two words appears in the `description` column in the dataset. (For simplicity, let's ignore the capitalized versions of these words.)"
   ]
  },
  {
   "cell_type": "code",
   "execution_count": 12,
   "id": "bc7fffba",
   "metadata": {
    "execution": {
     "iopub.execute_input": "2023-10-31T19:56:19.019583Z",
     "iopub.status.busy": "2023-10-31T19:56:19.018913Z",
     "iopub.status.idle": "2023-10-31T19:56:19.185539Z",
     "shell.execute_reply": "2023-10-31T19:56:19.184486Z"
    },
    "papermill": {
     "duration": 0.182708,
     "end_time": "2023-10-31T19:56:19.187908",
     "exception": false,
     "start_time": "2023-10-31T19:56:19.005200",
     "status": "completed"
    },
    "tags": []
   },
   "outputs": [
    {
     "data": {
      "application/javascript": [
       "parent.postMessage({\"jupyterEvent\": \"custom.exercise_interaction\", \"data\": {\"outcomeType\": 1, \"valueTowardsCompletion\": 0.14285714285714285, \"interactionType\": 1, \"questionType\": 1, \"questionId\": \"6_DescriptorCounts\", \"learnToolsVersion\": \"0.3.4\", \"failureMessage\": \"\", \"exceptionClass\": \"\", \"trace\": \"\"}}, \"*\")"
      ],
      "text/plain": [
       "<IPython.core.display.Javascript object>"
      ]
     },
     "metadata": {},
     "output_type": "display_data"
    },
    {
     "data": {
      "text/markdown": [
       "<span style=\"color:#33cc33\">Correct</span>"
      ],
      "text/plain": [
       "Correct"
      ]
     },
     "metadata": {},
     "output_type": "display_data"
    }
   ],
   "source": [
    "#descriptions = reviews['description']\n",
    "#indices=descriptions.index\n",
    "#fruity_count,tropical_count = 0,0\n",
    "#for index in indices:\n",
    "#    tropical_count+=descriptions.loc[index].count('tropical')\n",
    "#    fruity_count+=descriptions.loc[index].count('fruity')\n",
    "#descriptor_counts=pd.Series([tropical_count,fruity_count],index=['tropical','fruity'])\n",
    "n_trop = reviews.description.map(lambda desc: \"tropical\" in desc).sum()\n",
    "n_fruity = reviews.description.map(lambda desc: \"fruity\" in desc).sum()\n",
    "descriptor_counts = pd.Series([n_trop, n_fruity], index=['tropical', 'fruity'])\n",
    "descriptor_counts\n",
    "q6.check()"
   ]
  },
  {
   "cell_type": "code",
   "execution_count": 13,
   "id": "6d07314e",
   "metadata": {
    "execution": {
     "iopub.execute_input": "2023-10-31T19:56:19.213211Z",
     "iopub.status.busy": "2023-10-31T19:56:19.212767Z",
     "iopub.status.idle": "2023-10-31T19:56:19.380985Z",
     "shell.execute_reply": "2023-10-31T19:56:19.379782Z"
    },
    "papermill": {
     "duration": 0.183704,
     "end_time": "2023-10-31T19:56:19.383418",
     "exception": false,
     "start_time": "2023-10-31T19:56:19.199714",
     "status": "completed"
    },
    "tags": []
   },
   "outputs": [
    {
     "data": {
      "text/plain": [
       "tropical    3607\n",
       "fruity      9090\n",
       "dtype: int64"
      ]
     },
     "execution_count": 13,
     "metadata": {},
     "output_type": "execute_result"
    }
   ],
   "source": [
    "#q6.hint()\n",
    "#q6.solution()\n",
    "n_trop = reviews.description.map(lambda desc: \"tropical\" in desc).sum()\n",
    "n_fruity = reviews.description.map(lambda desc: \"fruity\" in desc).sum()\n",
    "descriptor_counts = pd.Series([n_trop, n_fruity], index=['tropical', 'fruity'])\n",
    "descriptor_counts"
   ]
  },
  {
   "cell_type": "markdown",
   "id": "e421303d",
   "metadata": {
    "papermill": {
     "duration": 0.011248,
     "end_time": "2023-10-31T19:56:19.406388",
     "exception": false,
     "start_time": "2023-10-31T19:56:19.395140",
     "status": "completed"
    },
    "tags": []
   },
   "source": [
    "## 7.\n",
    "We'd like to host these wine reviews on our website, but a rating system ranging from 80 to 100 points is too hard to understand - we'd like to translate them into simple star ratings. A score of 95 or higher counts as 3 stars, a score of at least 85 but less than 95 is 2 stars. Any other score is 1 star.\n",
    "\n",
    "Also, the Canadian Vintners Association bought a lot of ads on the site, so any wines from Canada should automatically get 3 stars, regardless of points.\n",
    "\n",
    "Create a series `star_ratings` with the number of stars corresponding to each review in the dataset."
   ]
  },
  {
   "cell_type": "code",
   "execution_count": 14,
   "id": "d94a73d8",
   "metadata": {
    "execution": {
     "iopub.execute_input": "2023-10-31T19:56:19.431061Z",
     "iopub.status.busy": "2023-10-31T19:56:19.430684Z",
     "iopub.status.idle": "2023-10-31T19:56:19.587612Z",
     "shell.execute_reply": "2023-10-31T19:56:19.586805Z"
    },
    "papermill": {
     "duration": 0.171863,
     "end_time": "2023-10-31T19:56:19.589721",
     "exception": false,
     "start_time": "2023-10-31T19:56:19.417858",
     "status": "completed"
    },
    "tags": []
   },
   "outputs": [
    {
     "data": {
      "application/javascript": [
       "parent.postMessage({\"jupyterEvent\": \"custom.exercise_interaction\", \"data\": {\"outcomeType\": 1, \"valueTowardsCompletion\": 0.14285714285714285, \"interactionType\": 1, \"questionType\": 1, \"questionId\": \"7_StarRatings\", \"learnToolsVersion\": \"0.3.4\", \"failureMessage\": \"\", \"exceptionClass\": \"\", \"trace\": \"\"}}, \"*\")"
      ],
      "text/plain": [
       "<IPython.core.display.Javascript object>"
      ]
     },
     "metadata": {},
     "output_type": "display_data"
    },
    {
     "data": {
      "text/markdown": [
       "<span style=\"color:#33cc33\">Correct</span>"
      ],
      "text/plain": [
       "Correct"
      ]
     },
     "metadata": {},
     "output_type": "display_data"
    }
   ],
   "source": [
    "def stars(points,country):\n",
    "    if(country=='Canada'):\n",
    "        return 3\n",
    "    if(points>95):\n",
    "        return 3\n",
    "    elif(points>=85 and points<95):\n",
    "        return 2\n",
    "    else:\n",
    "        return 1\n",
    "star_ratings=pd.Series(list(map(stars,reviews['points'],reviews['country'])))\n",
    "#a=pd.Series(reviews['points'].map(stars,)\n",
    "\n",
    "# Check your answer\n",
    "q7.check()\n",
    "#reviews\n",
    "\n",
    "##star_ratings = reviews.apply(stars, axis='columns')\n",
    "\n",
    "#Interesting approach to use reviews.appl"
   ]
  },
  {
   "cell_type": "code",
   "execution_count": 15,
   "id": "a58c5ee0",
   "metadata": {
    "execution": {
     "iopub.execute_input": "2023-10-31T19:56:19.615847Z",
     "iopub.status.busy": "2023-10-31T19:56:19.614837Z",
     "iopub.status.idle": "2023-10-31T19:56:19.623319Z",
     "shell.execute_reply": "2023-10-31T19:56:19.622580Z"
    },
    "papermill": {
     "duration": 0.02418,
     "end_time": "2023-10-31T19:56:19.625539",
     "exception": false,
     "start_time": "2023-10-31T19:56:19.601359",
     "status": "completed"
    },
    "tags": []
   },
   "outputs": [
    {
     "data": {
      "application/javascript": [
       "parent.postMessage({\"jupyterEvent\": \"custom.exercise_interaction\", \"data\": {\"interactionType\": 3, \"questionType\": 1, \"questionId\": \"7_StarRatings\", \"learnToolsVersion\": \"0.3.4\", \"valueTowardsCompletion\": 0.0, \"failureMessage\": \"\", \"exceptionClass\": \"\", \"trace\": \"\", \"outcomeType\": 4}}, \"*\")"
      ],
      "text/plain": [
       "<IPython.core.display.Javascript object>"
      ]
     },
     "metadata": {},
     "output_type": "display_data"
    },
    {
     "data": {
      "text/markdown": [
       "<span style=\"color:#33cc99\">Solution:</span> \n",
       "```python\n",
       "def stars(row):\n",
       "    if row.country == 'Canada':\n",
       "        return 3\n",
       "    elif row.points >= 95:\n",
       "        return 3\n",
       "    elif row.points >= 85:\n",
       "        return 2\n",
       "    else:\n",
       "        return 1\n",
       "    \n",
       "star_ratings = reviews.apply(stars, axis='columns')\n",
       "```"
      ],
      "text/plain": [
       "Solution: \n",
       "```python\n",
       "def stars(row):\n",
       "    if row.country == 'Canada':\n",
       "        return 3\n",
       "    elif row.points >= 95:\n",
       "        return 3\n",
       "    elif row.points >= 85:\n",
       "        return 2\n",
       "    else:\n",
       "        return 1\n",
       "    \n",
       "star_ratings = reviews.apply(stars, axis='columns')\n",
       "```"
      ]
     },
     "metadata": {},
     "output_type": "display_data"
    }
   ],
   "source": [
    "#q7.hint()\n",
    "q7.solution()"
   ]
  },
  {
   "cell_type": "markdown",
   "id": "c4b76722",
   "metadata": {
    "papermill": {
     "duration": 0.012123,
     "end_time": "2023-10-31T19:56:19.649888",
     "exception": false,
     "start_time": "2023-10-31T19:56:19.637765",
     "status": "completed"
    },
    "tags": []
   },
   "source": [
    "# Keep going\n",
    "Continue to **[grouping and sorting](https://www.kaggle.com/residentmario/grouping-and-sorting)**."
   ]
  },
  {
   "cell_type": "markdown",
   "id": "5a47110c",
   "metadata": {
    "papermill": {
     "duration": 0.011984,
     "end_time": "2023-10-31T19:56:19.673997",
     "exception": false,
     "start_time": "2023-10-31T19:56:19.662013",
     "status": "completed"
    },
    "tags": []
   },
   "source": [
    "---\n",
    "\n",
    "\n",
    "\n",
    "\n",
    "*Have questions or comments? Visit the [course discussion forum](https://www.kaggle.com/learn/pandas/discussion) to chat with other learners.*"
   ]
  }
 ],
 "metadata": {
  "kernelspec": {
   "display_name": "Python 3",
   "language": "python",
   "name": "python3"
  },
  "language_info": {
   "codemirror_mode": {
    "name": "ipython",
    "version": 3
   },
   "file_extension": ".py",
   "mimetype": "text/x-python",
   "name": "python",
   "nbconvert_exporter": "python",
   "pygments_lexer": "ipython3",
   "version": "3.10.12"
  },
  "papermill": {
   "default_parameters": {},
   "duration": 14.174988,
   "end_time": "2023-10-31T19:56:20.206939",
   "environment_variables": {},
   "exception": null,
   "input_path": "__notebook__.ipynb",
   "output_path": "__notebook__.ipynb",
   "parameters": {},
   "start_time": "2023-10-31T19:56:06.031951",
   "version": "2.4.0"
  }
 },
 "nbformat": 4,
 "nbformat_minor": 5
}
